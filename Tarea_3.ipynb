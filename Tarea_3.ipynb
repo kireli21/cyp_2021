{
  "nbformat": 4,
  "nbformat_minor": 0,
  "metadata": {
    "colab": {
      "name": "Tarea_3.ipynb",
      "provenance": [],
      "authorship_tag": "ABX9TyOvbHGwlzLWAqVD9HhPv4Nf",
      "include_colab_link": true
    },
    "kernelspec": {
      "name": "python3",
      "display_name": "Python 3"
    }
  },
  "cells": [
    {
      "cell_type": "markdown",
      "metadata": {
        "id": "view-in-github",
        "colab_type": "text"
      },
      "source": [
        "<a href=\"https://colab.research.google.com/github/kireli21/cyp_2021/blob/main/Tarea_3.ipynb\" target=\"_parent\"><img src=\"https://colab.research.google.com/assets/colab-badge.svg\" alt=\"Open In Colab\"/></a>"
      ]
    },
    {
      "cell_type": "code",
      "metadata": {
        "id": "z1DLzFFXdLkh",
        "colab": {
          "base_uri": "https://localhost:8080/"
        },
        "outputId": "d429e036-5b7d-48ea-e6e1-9d97f8740b89"
      },
      "source": [
        "# Problema 1.1\n",
        "# El programa calcula, dependiendo del precio del articulo y del dinero dado por el cliente, el cambio\n",
        "\n",
        "art = 0\n",
        "dinero = 0\n",
        "cam = 0\n",
        "\n",
        "art = float(input(\"Ingrese cuanto cuesta el articulo: \"))\n",
        "dinero = float(input(\"Ingrese el dinero del cliente: \"))\n",
        "\n",
        "cam = dinero - art\n",
        "\n",
        "print(f\"El cambio es: {cam}\")\n"
      ],
      "execution_count": null,
      "outputs": [
        {
          "output_type": "stream",
          "text": [
            "Ingrese cuanto cuesta el articulo: 86.25\n",
            "Ingrese el dinero del cliente: 100\n",
            "El cambio es: 13.75\n"
          ],
          "name": "stdout"
        }
      ]
    },
    {
      "cell_type": "code",
      "metadata": {
        "colab": {
          "base_uri": "https://localhost:8080/"
        },
        "id": "_o6eTSA1iE4y",
        "outputId": "4ad25282-6d65-43f3-cb74-dcb34430f5cc"
      },
      "source": [
        "# Problema 1.2\n",
        "# Dada la base y la altura de un triangulo, el programa calcula el area\n",
        "\n",
        "base = 0\n",
        "altura = 0 \n",
        "area = 0 \n",
        "\n",
        "base = float(input(\"Ingrese la base del triangulo: \"))\n",
        "altura = float(input(\"Ingrese la altura del triangulo: \"))\n",
        "\n",
        "area = base * altura / 2\n",
        "\n",
        "print(f\"El area del triangulo es: {area}\")"
      ],
      "execution_count": null,
      "outputs": [
        {
          "output_type": "stream",
          "text": [
            "Ingrese la base del triangulo: 8.5\n",
            "Ingrese la altura del triangulo: 7.2\n",
            "El area del triangulo es: 30.6\n"
          ],
          "name": "stdout"
        }
      ]
    },
    {
      "cell_type": "code",
      "metadata": {
        "colab": {
          "base_uri": "https://localhost:8080/"
        },
        "id": "XtOQ4h_IkbM7",
        "outputId": "79bbe5b5-9f33-45f5-c58e-acb24e60f8e1"
      },
      "source": [
        "# Problema 1.3\n",
        "# El programa toma los datos de un dinosaurio cuyo peso y longitud estan en libras y pies, y lo transforma a kilos y metros\n",
        "\n",
        "nom = 0\n",
        "lib = 0\n",
        "pies = 0 \n",
        "kilos = 0\n",
        "metros = 0 \n",
        "\n",
        "nom = input(\"Escribe el nombre del dinosaurio: \")\n",
        "lib = float(input(\"Escribe el peso del dinosaurio en libras: \"))\n",
        "pies = float(input(\"Escribe la longitud del dinosaurio en pies: \"))\n",
        "\n",
        "kilos = lib * 0.453592\n",
        "metros = pies * 0.3048\n",
        "\n",
        "print(f\"El dinosaurio {nom} pesa {kilos} kilos y su longitud es {metros} metros\")"
      ],
      "execution_count": null,
      "outputs": [
        {
          "output_type": "stream",
          "text": [
            "Escribe el nombre del dinosaurio: Tyrannosaurus\n",
            "Escribe el peso del dinosaurio en libras: 11023.11\n",
            "Escribe la longitud del dinosaurio en pies: 90\n",
            "El dinosaurio Tyrannosaurus pesa 4999.99451112 kilos y su longitud es 27.432000000000002 metros\n"
          ],
          "name": "stdout"
        }
      ]
    },
    {
      "cell_type": "code",
      "metadata": {
        "id": "uHusFzxGo5fg",
        "colab": {
          "base_uri": "https://localhost:8080/"
        },
        "outputId": "2d0f50eb-2b70-4043-b980-c8f3e72cd28d"
      },
      "source": [
        "# Problema 1.4\n",
        "# El programa calcula el precio de los galeones que compra un cliente, siendo que cuesta $8.20 por litro\n",
        "\n",
        "gal = 0\n",
        "Prec = 0\n",
        "\n",
        "gal = float(input(\"Cuantos galeones se compraron: \"))\n",
        "\n",
        "prec = gal * 3.78541 * 8.20\n",
        "\n",
        "print(f\"Lo que debe pagar es: {prec}\")"
      ],
      "execution_count": 1,
      "outputs": [
        {
          "output_type": "stream",
          "text": [
            "Cuantos galeones se compraron: 10.38\n",
            "Lo que debe pagar es: 322.19895756\n"
          ],
          "name": "stdout"
        }
      ]
    },
    {
      "cell_type": "code",
      "metadata": {
        "colab": {
          "base_uri": "https://localhost:8080/"
        },
        "id": "ewPibFu2y1qe",
        "outputId": "2bd0c199-cadb-4ce4-81b8-fdd877804aad"
      },
      "source": [
        "# Problema 1.5\n",
        "# El programa calcula el area y el volumen de un cilindro, con su altura y su radio\n",
        "\n",
        "r = 0\n",
        "altura = 0\n",
        "area = 0\n",
        "volumen = 0\n",
        "\n",
        "r = float(input(\"Ingrese el radio del cilindro: \"))\n",
        "altura = float(input(\"Ingrese la altura del cilindro: \"))\n",
        "\n",
        "area = 2 * 3.1416 * r * altura\n",
        "volumen = 3.1416 * r**2 * altura\n",
        "\n",
        "print(f\"El area del cilindro es: {area}\")\n",
        "print(f\"El volumen del cilindro es: {volumen}\")"
      ],
      "execution_count": 2,
      "outputs": [
        {
          "output_type": "stream",
          "text": [
            "Ingrese el radio del cilindro: 45.22\n",
            "Ingrese la altura del cilindro: 11.60\n",
            "El area del cilindro es: 3295.8651264\n",
            "El volumen del cilindro es: 74519.510507904\n"
          ],
          "name": "stdout"
        }
      ]
    },
    {
      "cell_type": "code",
      "metadata": {
        "colab": {
          "base_uri": "https://localhost:8080/"
        },
        "id": "QB0OYcQ6EoZF",
        "outputId": "1efbecdc-c057-450f-ed15-50c13f066ada"
      },
      "source": [
        "# Problema 1.6\n",
        "# El programa calcula el numero de segundos en determinados dias, dados por el usuario\n",
        "\n",
        "num = 0\n",
        "seg = 0\n",
        "\n",
        "num = int(input(\"Ingrese los dias a calcular: \"))\n",
        "\n",
        "seg = num * 86400\n",
        "\n",
        "print(f\"{num} dias son {seg} segundos\")"
      ],
      "execution_count": 4,
      "outputs": [
        {
          "output_type": "stream",
          "text": [
            "Ingrese los dias a calcular: 116\n",
            "116 dias son 10022400 segundos\n"
          ],
          "name": "stdout"
        }
      ]
    }
  ]
}