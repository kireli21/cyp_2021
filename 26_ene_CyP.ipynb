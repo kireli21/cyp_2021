{
  "nbformat": 4,
  "nbformat_minor": 0,
  "metadata": {
    "colab": {
      "name": "26_ene_CyP.ipynb",
      "provenance": [],
      "authorship_tag": "ABX9TyOlrGO2s+99j8N9z6YCljJl",
      "include_colab_link": true
    },
    "kernelspec": {
      "name": "python3",
      "display_name": "Python 3"
    }
  },
  "cells": [
    {
      "cell_type": "markdown",
      "metadata": {
        "id": "view-in-github",
        "colab_type": "text"
      },
      "source": [
        "<a href=\"https://colab.research.google.com/github/kireli21/cyp_2021/blob/main/26_ene_CyP.ipynb\" target=\"_parent\"><img src=\"https://colab.research.google.com/assets/colab-badge.svg\" alt=\"Open In Colab\"/></a>"
      ]
    },
    {
      "cell_type": "markdown",
      "metadata": {
        "id": "QvNDvaIbtG14"
      },
      "source": [
        "#Listas de lenguaje phyton 3\r\n",
        "1. es una estructura de dats lineal de 0 o n elementos \r\n",
        "1. \"equivalente\" a los arreglos\r\n",
        "1. pueden ser d e diferentes tipos de datos. [1,2,32,12] , [1, True, 2,34, \"Hola\"]\r\n",
        "1. Pueden ser anidados, listas de listas.\r\n",
        "[\"Melon\",[\"manzana roja\", \"manzana amarilla\"] ]\r\n",
        "1. su selector es de la forma: [int]\r\n",
        "1. Son mutables.\r\n"
      ]
    },
    {
      "cell_type": "code",
      "metadata": {
        "colab": {
          "base_uri": "https://localhost:8080/"
        },
        "id": "gxDQz7btsj_E",
        "outputId": "563c68e7-0069-4ff2-f8f6-5705cc111769"
      },
      "source": [
        "# ejemplos\r\n",
        "\r\n",
        "numeros = [4,2,45,7,83,3]\r\n",
        "print(numeros)\r\n",
        "print(numeros[2])\r\n",
        "\r\n",
        "# Una lista de 0 elementos\r\n",
        "colores = [] #list()\r\n",
        "type(colores)# averiagua que tipo de dato es la variable \r\n",
        "\r\n",
        "dias = list()\r\n",
        "\r\n",
        "print(colores)\r\n",
        "print(dias)\r\n"
      ],
      "execution_count": 4,
      "outputs": [
        {
          "output_type": "stream",
          "text": [
            "[4, 2, 45, 7, 83, 3]\n",
            "45\n",
            "[]\n",
            "[]\n"
          ],
          "name": "stdout"
        }
      ]
    },
    {
      "cell_type": "code",
      "metadata": {
        "colab": {
          "base_uri": "https://localhost:8080/"
        },
        "id": "WFZtit95wI1-",
        "outputId": "99090434-876c-4731-e8e0-9e5093a13b4c"
      },
      "source": [
        "#pueden ser de diferente tipo de dato\r\n",
        "\r\n",
        "mi_lista = [1,2,3,\"kareli\",False,1.61,[51116352,56483217,55666788]]\r\n",
        "print(mi_lista)\r\n",
        "print(mi_lista[5])\r\n",
        "print(mi_lista[6][2])\r\n",
        "print(mi_lista[3][-1::1])"
      ],
      "execution_count": 25,
      "outputs": [
        {
          "output_type": "stream",
          "text": [
            "[1, 2, 3, 'kareli', False, 1.61, [51116352, 56483217, 55666788]]\n",
            "1.61\n",
            "55666788\n",
            "i\n"
          ],
          "name": "stdout"
        }
      ]
    },
    {
      "cell_type": "code",
      "metadata": {
        "colab": {
          "base_uri": "https://localhost:8080/"
        },
        "id": "jCLCxW9v0TNA",
        "outputId": "4da036ff-a6f2-4f0f-fb39-033c9ab3fde5"
      },
      "source": [
        "frutas=[\"melon\",\"sandia\",\"kiwi\",\"aguacate\",\"mango\",\"platano\"]\r\n",
        "print(frutas)\r\n",
        "frutas[0]=\"Melón\"\r\n",
        "print(frutas)\r\n",
        "frutas[1]= frutas[1].capitalize()\r\n",
        "print(frutas)"
      ],
      "execution_count": 34,
      "outputs": [
        {
          "output_type": "stream",
          "text": [
            "['melon', 'sandia', 'kiwi', 'aguacate', 'mango', 'platano']\n",
            "['Melón', 'sandia', 'kiwi', 'aguacate', 'mango', 'platano']\n",
            "['Melón', 'Sandia', 'kiwi', 'aguacate', 'mango', 'platano']\n"
          ],
          "name": "stdout"
        }
      ]
    },
    {
      "cell_type": "code",
      "metadata": {
        "colab": {
          "base_uri": "https://localhost:8080/"
        },
        "id": "MlmFzWTA2EdR",
        "outputId": "ccd9fc43-0049-4f8a-fdf7-2528b3aad164"
      },
      "source": [
        "# las listas son clases por lo tanto, tienen metodos\r\n",
        "#Ejemplo:Append, agrega un elemento\r\n",
        "frutas.append(\"fresa\")\r\n",
        "print(frutas)\r\n",
        "\r\n",
        "frutas=[\"melon\",\"sandia\",\"kiwi\",\"aguacate\",\"mango\",\"platano\"]\r\n",
        "\r\n",
        "otras_frutas= frutas.copy()\r\n",
        "print(frutas)\r\n",
        "print(otras_frutas)\r\n",
        "otras_frutas[0]=\"Chico zapote\"\r\n",
        "print(otras_frutas)\r\n",
        "\r\n",
        "print(\"ejemplo de extend\")\r\n",
        "\r\n",
        "colores = [\"rojo\",\"verde\",\"azul\"]\r\n",
        "frutas.extend(colores)\r\n",
        "print(frutas)\r\n",
        "\r\n",
        "print(\"ejemplo insert\")\r\n",
        "frutas.insert(3,\"Limon\")\r\n",
        "\r\n",
        "print(frutas)"
      ],
      "execution_count": 43,
      "outputs": [
        {
          "output_type": "stream",
          "text": [
            "['melon', 'sandia', 'kiwi', 'aguacate', 'mango', 'platano', 'rojo', 'verde', 'azul', 'fresa']\n",
            "['melon', 'sandia', 'kiwi', 'aguacate', 'mango', 'platano']\n",
            "['melon', 'sandia', 'kiwi', 'aguacate', 'mango', 'platano']\n",
            "['Chico zapote', 'sandia', 'kiwi', 'aguacate', 'mango', 'platano']\n",
            "ejemplo de extend\n",
            "['melon', 'sandia', 'kiwi', 'aguacate', 'mango', 'platano', 'rojo', 'verde', 'azul']\n",
            "ejemplo insert\n",
            "['melon', 'sandia', 'kiwi', 'Limon', 'aguacate', 'mango', 'platano', 'rojo', 'verde', 'azul']\n"
          ],
          "name": "stdout"
        }
      ]
    },
    {
      "cell_type": "code",
      "metadata": {
        "colab": {
          "base_uri": "https://localhost:8080/"
        },
        "id": "BWBP_pbUFUTx",
        "outputId": "f89bcc6a-a77a-4c1f-92bc-22d3628783d8"
      },
      "source": [
        "#slicing sobre listas\r\n",
        "frutas = [\"melon\", \"sandia\", \"kiwi\", \"aguacate\", \"mango\", \"platano\"]\r\n",
        "print(frutas[1:4:])\r\n",
        "\r\n",
        "sisop = [\"windows\", \"mac OS\", \"Linux\", \"Android\"]\r\n",
        "autos=[\"Ford\", \"mazda\",\"honda\"]\r\n",
        "\r\n",
        "cosas = [sisop , autos]\r\n",
        "print(cosas)\r\n",
        "print(cosas[1])\r\n",
        "print(cosas[0][2])\r\n",
        "print(cosas[0][3][2:5:])\r\n",
        "print(cosas[1][1][-2:-5:-1])"
      ],
      "execution_count": 59,
      "outputs": [
        {
          "output_type": "stream",
          "text": [
            "['sandia', 'kiwi', 'aguacate']\n",
            "[['windows', 'mac OS', 'Linux', 'Android'], ['Ford', 'mazda', 'honda']]\n",
            "['Ford', 'mazda', 'honda']\n",
            "Linux\n",
            "dro\n",
            "dza\n"
          ],
          "name": "stdout"
        }
      ]
    }
  ]
}