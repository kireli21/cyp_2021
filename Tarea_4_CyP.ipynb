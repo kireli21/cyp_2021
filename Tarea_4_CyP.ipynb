{
  "nbformat": 4,
  "nbformat_minor": 0,
  "metadata": {
    "colab": {
      "name": "Tarea_4_CyP.ipynb",
      "provenance": [],
      "authorship_tag": "ABX9TyOeNyMiNpf5S4s1Ce45lSzZ",
      "include_colab_link": true
    },
    "kernelspec": {
      "name": "python3",
      "display_name": "Python 3"
    }
  },
  "cells": [
    {
      "cell_type": "markdown",
      "metadata": {
        "id": "view-in-github",
        "colab_type": "text"
      },
      "source": [
        "<a href=\"https://colab.research.google.com/github/kireli21/cyp_2021/blob/main/Tarea_4_CyP.ipynb\" target=\"_parent\"><img src=\"https://colab.research.google.com/assets/colab-badge.svg\" alt=\"Open In Colab\"/></a>"
      ]
    },
    {
      "cell_type": "code",
      "metadata": {
        "colab": {
          "base_uri": "https://localhost:8080/"
        },
        "id": "cBVrL4Mefd8A",
        "outputId": "bb62cc2b-b874-4aa3-a451-1144528150f2"
      },
      "source": [
        "# Ejercicio 2.4\n",
        "# Programa que calcula, segun el sueldo del trabajador, un aumento segun la condicion e imprime el nuevo sueldo\n",
        "# 15% si es menor a 1000 y 12% si es lo contrario\n",
        "\n",
        "nom = 0\n",
        "sal = 0\n",
        "suef = 0\n",
        "aum = 0\n",
        "\n",
        "nom = input(\"Indique el nombre del trabajador: \")\n",
        "sal = float(input(\"Indique el sueldo del trabajador: \"))\n",
        "\n",
        "if sal < 1000:\n",
        "  aum = sal * 0.15\n",
        "  suef = sal + aum\n",
        "  print(f\"El nuevo sueldo de {nom} es de: {suef}\")\n",
        "else:\n",
        "  aum = sal * 0.12\n",
        "  suef = sal + aum\n",
        "  print(f\"El nuevo sueldo de {nom} es de: {suef}\")\n"
      ],
      "execution_count": null,
      "outputs": [
        {
          "output_type": "stream",
          "text": [
            "Indique el nombre del trabajador: Carla\n",
            "Indique el sueldo del trabajador: 1200.00\n",
            "El nuevo sueldo de Carla es de: 1344.0\n"
          ],
          "name": "stdout"
        }
      ]
    },
    {
      "cell_type": "code",
      "metadata": {
        "id": "Uupr_AfTjRuH",
        "colab": {
          "base_uri": "https://localhost:8080/"
        },
        "outputId": "6b5727ed-af7b-408d-aefa-95b999b1da4b"
      },
      "source": [
        "# Ejercicio 2.8\n",
        "#Dependiendo de la categoria del trabajador el programa calculara el aumento siguiendo las siguientes indicaciones\n",
        "#categoria 1 = 15%\n",
        "#categoria 2 = 10%\n",
        "#categoria 3 = 8%\n",
        "#categoria 4 = 7%\n",
        "\n",
        "nom = 0\n",
        "cat = 0\n",
        "sal = 0\n",
        "aum = 0\n",
        "suef = 0\n",
        "\n",
        "nom = input(\"Ingrese el nombre del trabajador: \")\n",
        "cat = int(input(\"Indique la categoria: \"))\n",
        "sal = float(input(\"Ingrese el salario del trabajador: \"))\n",
        "\n",
        "if cat == 1:\n",
        "  aum = sal * 0.15\n",
        "  suef = sal + aum\n",
        "  print(f\"El sueldo final de {nom} es de: {suef}\")\n",
        "elif cat == 2:\n",
        "  aum = sal * 0.10\n",
        "  suef = sal + aum\n",
        "  print(f\"El sueldo final de {nom} es de: {suef}\")\n",
        "elif cat == 3:\n",
        "  aum = sal * 0.08\n",
        "  suef = sal + aum\n",
        "  print(f\"El sueldo final de {nom} es de: {suef}\")\n",
        "elif cat == 4:\n",
        "  aum = sal * 0.07\n",
        "  suef = sal + aum\n",
        "  print(f\"El sueldo final de {nom} es de: {suef}\")"
      ],
      "execution_count": 9,
      "outputs": [
        {
          "output_type": "stream",
          "text": [
            "Ingrese el nombre del trabajador: carl\n",
            "Indique la categoria: 2\n",
            "Ingrese el salario del trabajador: 1750\n",
            "El sueldo final de carl es de: 1925.0\n"
          ],
          "name": "stdout"
        }
      ]
    }
  ]
}