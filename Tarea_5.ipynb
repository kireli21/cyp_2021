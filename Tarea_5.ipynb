{
  "nbformat": 4,
  "nbformat_minor": 0,
  "metadata": {
    "colab": {
      "name": "Tarea_5.ipynb",
      "provenance": [],
      "authorship_tag": "ABX9TyOXpsEFRWmcoTolql7opDC8",
      "include_colab_link": true
    },
    "kernelspec": {
      "name": "python3",
      "display_name": "Python 3"
    }
  },
  "cells": [
    {
      "cell_type": "markdown",
      "metadata": {
        "id": "view-in-github",
        "colab_type": "text"
      },
      "source": [
        "<a href=\"https://colab.research.google.com/github/kireli21/cyp_2021/blob/main/Tarea_5.ipynb\" target=\"_parent\"><img src=\"https://colab.research.google.com/assets/colab-badge.svg\" alt=\"Open In Colab\"/></a>"
      ]
    },
    {
      "cell_type": "code",
      "metadata": {
        "colab": {
          "base_uri": "https://localhost:8080/"
        },
        "id": "U0cQtNTD8L-a",
        "outputId": "d40fe9d7-a09b-480b-d9fa-e8215e4cbec4"
      },
      "source": [
        "# Ejemplo 3.1\n",
        "# Daddo los sueldos de 10 trabajadores, calcular el total de nomina, sin utilizar estructuras repetitivas\n",
        "\n",
        "sue1 = 0\n",
        "sue2 = 0\n",
        "sue3 = 0\n",
        "sue4 = 0\n",
        "sue5 = 0\n",
        "sue6 = 0\n",
        "sue7 = 0\n",
        "sue8 = 0\n",
        "sue9 = 0\n",
        "sue10 = 0\n",
        "nomf = 0\n",
        "\n",
        "sue1 = float(input(\"Ingrese el sueldo del trabajador1: \"))\n",
        "sue2 = float(input(\"Ingrese el sueldo del trabajador2: \"))\n",
        "sue3 = float(input(\"Ingrese el sueldo del trabajador3: \"))\n",
        "sue4 = float(input(\"Ingrese el sueldo del trabajador4: \"))\n",
        "sue5 = float(input(\"Ingrese el sueldo del trabajador5: \"))\n",
        "sue6 = float(input(\"Ingrese el sueldo del trabajador6: \"))\n",
        "sue7 = float(input(\"Ingrese el sueldo del trabajador7: \"))\n",
        "sue8 = float(input(\"Ingrese el sueldo del trabajador8: \"))\n",
        "sue9 = float(input(\"Ingrese el sueldo del trabajador9: \"))\n",
        "sue10 = float(input(\"Ingrese el sueldo del trabajador10: \"))\n",
        "\n",
        "nomf = sue1 + sue2 + sue3 + sue4 + sue5 + sue6 + sue7 + sue8 + sue9 + sue10 \n",
        "\n",
        "print(f\"La nomina total de los trabajadores es de: {nomf}\")\n"
      ],
      "execution_count": null,
      "outputs": [
        {
          "output_type": "stream",
          "text": [
            "Ingrese el sueldo del trabajador1: 1500\n",
            "Ingrese el sueldo del trabajador2: 890\n",
            "Ingrese el sueldo del trabajador3: 700\n",
            "Ingrese el sueldo del trabajador4: 950\n",
            "Ingrese el sueldo del trabajador5: 2300\n",
            "Ingrese el sueldo del trabajador6: 1650\n",
            "Ingrese el sueldo del trabajador7: 1800\n",
            "Ingrese el sueldo del trabajador8: 1400\n",
            "Ingrese el sueldo del trabajador9: 760\n",
            "Ingrese el sueldo del trabajador10: 900\n",
            "La nomina total de los trabajadores es de: 12850.0\n"
          ],
          "name": "stdout"
        }
      ]
    },
    {
      "cell_type": "code",
      "metadata": {
        "id": "hRie-9PtAQQP",
        "colab": {
          "base_uri": "https://localhost:8080/"
        },
        "outputId": "a872b240-663e-42be-b3ee-06ed4a85ee3b"
      },
      "source": [
        "# Ejemplo 3.4\n",
        "# Calcular la suma de gastos de un viaje, sin saber exactamente cuantos fueron\n",
        "\n",
        "sumgas = 0\n",
        "gast = 0\n",
        "\n",
        "sumgas = 0\n",
        "gast = float(input(\"Ingrese el gasto: \"))\n",
        "\n",
        "while gast > -1:\n",
        "  sumgas = sumgas + gast\n",
        "  gast = float(input(\"Ingrese el gasto: \"))\n",
        "\n",
        "print(f\"El gasto total fue de: {sumgas}\")"
      ],
      "execution_count": 7,
      "outputs": [
        {
          "output_type": "stream",
          "text": [
            "Ingrese el gasto: 158.5\n",
            "Ingrese el gasto: 94\n",
            "Ingrese el gasto: 750\n",
            "Ingrese el gasto: 431\n",
            "Ingrese el gasto: -1\n",
            "El gasto total fue de: 1433.5\n"
          ],
          "name": "stdout"
        }
      ]
    }
  ]
}