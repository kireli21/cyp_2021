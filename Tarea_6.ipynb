{
  "nbformat": 4,
  "nbformat_minor": 0,
  "metadata": {
    "colab": {
      "name": "Tarea_6.ipynb",
      "provenance": [],
      "collapsed_sections": [],
      "authorship_tag": "ABX9TyP00kvYmwpC2bMBNBpw2j3+",
      "include_colab_link": true
    },
    "kernelspec": {
      "name": "python3",
      "display_name": "Python 3"
    }
  },
  "cells": [
    {
      "cell_type": "markdown",
      "metadata": {
        "id": "view-in-github",
        "colab_type": "text"
      },
      "source": [
        "<a href=\"https://colab.research.google.com/github/kireli21/cyp_2021/blob/main/Tarea_6.ipynb\" target=\"_parent\"><img src=\"https://colab.research.google.com/assets/colab-badge.svg\" alt=\"Open In Colab\"/></a>"
      ]
    },
    {
      "cell_type": "code",
      "metadata": {
        "colab": {
          "base_uri": "https://localhost:8080/"
        },
        "id": "6XjUxJ7aSYpB",
        "outputId": "846a7438-566b-4c52-fc5a-a65795d2c640"
      },
      "source": [
        "# Ejercicio 3.3\r\n",
        "# Programa que lea un numero entero N y calcule el resultado de la siguiente serie: 1 - 1/2 + 1/3 - 1/4 + ... +- 1/n\r\n",
        "\r\n",
        "n = 0\r\n",
        "\r\n",
        "band = True\r\n",
        "serie = 0\r\n",
        "i = 1\r\n",
        "n = int(input(\"Ingrese un numero entero: \"))\r\n",
        "\r\n",
        "while i <= n:\r\n",
        "  if band == True:\r\n",
        "    serie = serie + 1/i\r\n",
        "    serie1 = round(serie, 3)\r\n",
        "    print(f\"{ serie1 }, \", end = \"\")\r\n",
        "    band = False\r\n",
        "  else: \r\n",
        "    serie = serie - 1/i\r\n",
        "    serie1 = round(serie, 3)\r\n",
        "    print(f\" { serie1 }, \", end = \"\")\r\n",
        "    band = True\r\n",
        "  i = i + 1\r\n",
        "\r\n",
        "print(\"\\nFin del programa\")\r\n"
      ],
      "execution_count": null,
      "outputs": [
        {
          "output_type": "stream",
          "text": [
            "Ingrese un numero entero: 9\n",
            "1.0,  0.5, 0.833,  0.583, 0.783,  0.617, 0.76,  0.635, 0.746, \n",
            "Fin del programa\n"
          ],
          "name": "stdout"
        }
      ]
    },
    {
      "cell_type": "code",
      "metadata": {
        "id": "JrLuH9wMYoXm",
        "colab": {
          "base_uri": "https://localhost:8080/"
        },
        "outputId": "a8305373-a163-40f7-f8e6-f208c0b68250"
      },
      "source": [
        "# Ejercicio 3.4\r\n",
        "# Programa que calcula el aumento del sueldo para un grupo de empleados de una empresa teniendo encuenta el siguiente criterio:\r\n",
        "# si el sueldo es inferior a $1000: aumento 15%\r\n",
        "# si el sueldo es mayor o igual a $1000: aumento 12%\r\n",
        "# Imprime el sueldo nuevo del trabajador y el total de nomina de la empresa \r\n",
        "\r\n",
        "nom = 0\r\n",
        "sue = float(input(\"Ingrese el sueldo del trabajador: \"))\r\n",
        "while sue > -1:\r\n",
        "  if sue <= 1000:\r\n",
        "    aum = sue * 0.15\r\n",
        "    suei = sue + aum\r\n",
        "    suef = round(suei, 2)\r\n",
        "  elif sue >= 1000:\r\n",
        "    aum = sue * 0.12\r\n",
        "    suei = sue + aum\r\n",
        "    suef = round(suei, 2)\r\n",
        "  print(f\"El sueldo final es de: {suef}\")\r\n",
        "  nom = nom + suef\r\n",
        "  sue = float(input(\"Ingrese el sueldo del trabajador: \"))  \r\n",
        "print(f\"la nomina es de: {nom}\")"
      ],
      "execution_count": null,
      "outputs": [
        {
          "output_type": "stream",
          "text": [
            "Ingrese el sueldo del trabajador: 899\n",
            "El sueldo final es de: 1033.85\n",
            "Ingrese el sueldo del trabajador: 785\n",
            "El sueldo final es de: 902.75\n",
            "Ingrese el sueldo del trabajador: 1254\n",
            "El sueldo final es de: 1404.48\n",
            "Ingrese el sueldo del trabajador: 3965\n",
            "El sueldo final es de: 4440.8\n",
            "Ingrese el sueldo del trabajador: -1\n",
            "la nomina es de: 7781.88\n"
          ],
          "name": "stdout"
        }
      ]
    },
    {
      "cell_type": "code",
      "metadata": {
        "colab": {
          "base_uri": "https://localhost:8080/"
        },
        "id": "_4OVTz8JV_tH",
        "outputId": "6c80dbbe-9d68-4280-8b25-5ef25469d424"
      },
      "source": [
        "# Ejercicio 3.5\r\n",
        "# Programa que dado n numeros enteros se obtenga:\r\n",
        "# a) cuantos numeros fueron mayores a 0\r\n",
        "# b) calcule el promedio de los numeros positivos\r\n",
        "# c) calcule el promedio de todos los numeros dados\r\n",
        "\r\n",
        "pos = 0\r\n",
        "sump = 0\r\n",
        "n = 1\r\n",
        "sumn = 0\r\n",
        "N = int(input(\"Ingresa la cantidad de numeros a ingresar: \"))\r\n",
        "\r\n",
        "while n <= N:\r\n",
        "  num = int(input(\"Ingrese el numero: \"))\r\n",
        "  if num > 0:\r\n",
        "    pos = pos + 1\r\n",
        "    sump = sump + num\r\n",
        "  else:\r\n",
        "    sumn = sumn + num\r\n",
        "  n = n + 1\r\n",
        "\r\n",
        "prop = sump / pos\r\n",
        "prog = (sumn + sump) / N\r\n",
        "\r\n",
        "print(f\"{pos} numeros fueron mayores a 0\")\r\n",
        "print(f\"El promedio de los numeros positivos es: {prop}\")\r\n",
        "print(f\"El promedio general es: {prog}\")"
      ],
      "execution_count": null,
      "outputs": [
        {
          "output_type": "stream",
          "text": [
            "Ingresa la cantidad de numeros a ingresar: 5\n",
            "Ingrese el numero: -89\n",
            "Ingrese el numero: 894\n",
            "Ingrese el numero: -524\n",
            "Ingrese el numero: 98\n",
            "Ingrese el numero: 45\n",
            "3 numeros fueron mayores a 0\n",
            "El promedio de los numeros positivos es: 345.6666666666667\n",
            "El promedio general es: 84.8\n"
          ],
          "name": "stdout"
        }
      ]
    },
    {
      "cell_type": "code",
      "metadata": {
        "id": "BmskUSeXtAmC",
        "colab": {
          "base_uri": "https://localhost:8080/"
        },
        "outputId": "4c4831d0-63a3-4796-8d35-92067decd84a"
      },
      "source": [
        "# Ejercicio 3.6\r\n",
        "# Programa que, dependiendo de la cantidad de digitos ingresados, calcula el mayor y el menor de los numeros\r\n",
        "\r\n",
        "N = int(input(\"Ingrese la cantidad de cifras: \"))\r\n",
        "Ma = -1000000\r\n",
        "Me = 1000000\r\n",
        "a = 1\r\n",
        "\r\n",
        "while a <= N:\r\n",
        "  n = float(input(\"ingrese el numero: \"))\r\n",
        "  if n > Ma:\r\n",
        "    Ma = n\r\n",
        "  elif n < Me:\r\n",
        "    Me = n\r\n",
        "  a = a + 1 \r\n",
        "\r\n",
        "print(f\"El numero mayor es: {Ma}\")\r\n",
        "print(f\"El numero menor es: {Me}\")   \r\n"
      ],
      "execution_count": null,
      "outputs": [
        {
          "output_type": "stream",
          "text": [
            "Ingrese la cantidad de cifras: 5\n",
            "ingrese el numero: 99\n",
            "ingrese el numero: 64\n",
            "ingrese el numero: 1\n",
            "ingrese el numero: 78\n",
            "ingrese el numero: 105\n",
            "El numero mayor es: 105.0\n",
            "El numero menor es: 1.0\n"
          ],
          "name": "stdout"
        }
      ]
    },
    {
      "cell_type": "code",
      "metadata": {
        "id": "O_0ijy6SJ9mI",
        "colab": {
          "base_uri": "https://localhost:8080/"
        },
        "outputId": "10c1ea8e-410d-431f-80e0-97f7f1436ed0"
      },
      "source": [
        "# Ejercicio 3.7\r\n",
        "#Un vendedor  ha echo una serie de ventas y desea conocer aquellas de $200 o menos, las mayores a $200 pero inferiores a $400, y el numero de ventas\r\n",
        "#de $400 o superiores a tal cantidad. Haga un programa que le proporcione al vendedor esta informacion luego de leer los datos de entrada\r\n",
        "\r\n",
        "N = int(input(\"Ingrese el numero de ventas: \"))\r\n",
        "P = 0\r\n",
        "M = 0\r\n",
        "G = 0\r\n",
        "a = 1\r\n",
        "\r\n",
        "while a <= N:\r\n",
        "  v = float(input(\"Ingrese la venta: \"))\r\n",
        "  if v <= 200:\r\n",
        "    P = P + 1\r\n",
        "  else:\r\n",
        "    if v < 400:\r\n",
        "      M = M + 1\r\n",
        "    else:\r\n",
        "      G = G + 1\r\n",
        "  a = a+1\r\n",
        "\r\n",
        "print(f\"{P} ventas fueron de $200 o menos\")\r\n",
        "print(f\"{M} ventas fueron mayores a $200 pero menores a $400\")\r\n",
        "print(f\"{G} ventas fueron de $400 o más\")"
      ],
      "execution_count": null,
      "outputs": [
        {
          "output_type": "stream",
          "text": [
            "Ingrese el numero de ventas: 3\n",
            "Ingrese la venta: 100.50\n",
            "Ingrese la venta: 350\n",
            "Ingrese la venta: 525.2\n",
            "1 ventas fueron de $200 o menos\n",
            "1 ventas fueron mayores a $200 pero menores a $400\n",
            "1 ventas fueron de $400 o más\n"
          ],
          "name": "stdout"
        }
      ]
    },
    {
      "cell_type": "code",
      "metadata": {
        "id": "zW-rjy00KA9v",
        "colab": {
          "base_uri": "https://localhost:8080/"
        },
        "outputId": "86942b88-1eb4-42ce-8567-103f154cd185"
      },
      "source": [
        "# Ejercicio 3.8\r\n",
        "# Programa que lee un numero entero positivo y obtenga e imprima la sucesion de ULAM\r\n",
        "\r\n",
        "N = int(input(\"Ingrese un numero entero positivo: \"))\r\n",
        "\r\n",
        "if N > 0:\r\n",
        "  while N != 1: \r\n",
        "    print(N, \" \", end = \"\")\r\n",
        "    if ((-1)**N) > 0:\r\n",
        "      N = N/2\r\n",
        "    else:\r\n",
        "      N = (N * 3) + 1\r\n",
        "  print(N, \" \", end = \"\")\r\n",
        "else:\r\n",
        "  print(\"No es un numero positivo, intentelo de nuevo\")\r\n"
      ],
      "execution_count": null,
      "outputs": [
        {
          "output_type": "stream",
          "text": [
            "Ingrese un numero entero positivo: 13\n",
            "13  40  20.0  10.0  5.0  16.0  8.0  4.0  2.0  1.0  "
          ],
          "name": "stdout"
        }
      ]
    },
    {
      "cell_type": "code",
      "metadata": {
        "id": "W41ColMsKFQq",
        "colab": {
          "base_uri": "https://localhost:8080/"
        },
        "outputId": "f36aae0c-53dc-4219-a7c7-54e30b2d3122"
      },
      "source": [
        "# Ejercicio 3.9\r\n",
        "# programa que lea un numero (N) y realize la suma: 1**1 + 2**2 + 3**3 + ... + N**N e imprima el resultado\r\n",
        "\r\n",
        "N = int(input(\"Ingrese un numero: \"))\r\n",
        "a = 1\r\n",
        "S = 0\r\n",
        "while a <= N:\r\n",
        "  S = S + (a ** a)\r\n",
        "  a = a + 1\r\n",
        "\r\n",
        "print(f\"El resultado de la suma es: {S}\")\r\n"
      ],
      "execution_count": null,
      "outputs": [
        {
          "output_type": "stream",
          "text": [
            "Ingrese un numero: 8\n",
            "El resultado de la suma es: 17650828\n"
          ],
          "name": "stdout"
        }
      ]
    },
    {
      "cell_type": "code",
      "metadata": {
        "id": "zeA4nXqMKGA7",
        "colab": {
          "base_uri": "https://localhost:8080/"
        },
        "outputId": "7020aaa9-d494-4dd5-f506-c7ccb2e80522"
      },
      "source": [
        "# Ejercicio 3.10\r\n",
        "# programa que calcula el termino 18 de la secuencia FIBONACCI \r\n",
        "\r\n",
        "P = 0\r\n",
        "S = 1\r\n",
        "a = 3\r\n",
        "\r\n",
        "while a <= 18:\r\n",
        "  si = P + S\r\n",
        "  P = S\r\n",
        "  S = si\r\n",
        "  a = a + 1\r\n",
        "\r\n",
        "print(f\"El termino numero 180 de la secuencia FIBONACCI es: {si}\")"
      ],
      "execution_count": null,
      "outputs": [
        {
          "output_type": "stream",
          "text": [
            "El termino numero 180 de la secuencia FIBONACCI es: 1597\n"
          ],
          "name": "stdout"
        }
      ]
    },
    {
      "cell_type": "code",
      "metadata": {
        "id": "RDEfv2ccKG_t",
        "colab": {
          "base_uri": "https://localhost:8080/"
        },
        "outputId": "bb7eb17f-256b-4caa-9156-0ea9ec9b565b"
      },
      "source": [
        "# Ejercicio 3.11\r\n",
        "# Suponiendo una reciente eleccion en la que ubieron 4 candidatos (con identificadores 1, 2, 3, y 4) por lo que se necesita de un programa que cuente\r\n",
        "#los votos y aparte calcule el porcentaje de estos para cada candidato. El usuario ingresara los datos de manera desorganizada, como fueron llegando.\r\n",
        "\r\n",
        "v1 = 0\r\n",
        "v2 = 0\r\n",
        "v3 = 0\r\n",
        "v4 = 0\r\n",
        "v = int(input(\"Ingrese el numero del candidato por quien se voto: \"))\r\n",
        "\r\n",
        "while v != 0:\r\n",
        "  if v == 1:\r\n",
        "    v1 = v1 + 1\r\n",
        "  elif v == 2:\r\n",
        "    v2 = v2 + 1\r\n",
        "  elif v == 3:\r\n",
        "    v3 = v3 + 1\r\n",
        "  elif v == 4:\r\n",
        "    v4 = v4 + 1\r\n",
        "  else:\r\n",
        "    print(\"Solo existen 4 candidatos\")\r\n",
        "  v = int(input(\"Ingrese el numero del candidato por quien se voto: \"))\r\n",
        "\r\n",
        "sv = v1 + v2 + v3 + v4\r\n",
        "p1 = (v1/sv) * 100\r\n",
        "p2 = (v2/sv) * 100\r\n",
        "p3 = (v3/sv) * 100\r\n",
        "p4 = (v4/sv) * 100\r\n",
        "\r\n",
        "print(f\"La cantidad de votantes fue de: {sv} \")\r\n",
        "print(f\"La cantidad de votos del candidato 1 fue de: {v1} y su porsentaje fue de: {p1}\")\r\n",
        "print(f\"La cantidad de votos del candidato 2 fue de: {v2} y su porsentaje fue de: {p2}\")\r\n",
        "print(f\"La cantidad de votos del candidato 3 fue de: {v3} y su porsentaje fue de: {p3}\")\r\n",
        "print(f\"La cantidad de votos del candidato 4 fue de: {v4} y su porsentaje fue de: {p4}\")\r\n",
        "\r\n",
        "print(\"fin del programa\")"
      ],
      "execution_count": null,
      "outputs": [
        {
          "output_type": "stream",
          "text": [
            "Ingrese el numero del candidato por quien se voto: 1\n",
            "Ingrese el numero del candidato por quien se voto: 4\n",
            "Ingrese el numero del candidato por quien se voto: 4\n",
            "Ingrese el numero del candidato por quien se voto: 4\n",
            "Ingrese el numero del candidato por quien se voto: 2\n",
            "Ingrese el numero del candidato por quien se voto: 3\n",
            "Ingrese el numero del candidato por quien se voto: 4\n",
            "Ingrese el numero del candidato por quien se voto: 3\n",
            "Ingrese el numero del candidato por quien se voto: 1\n",
            "Ingrese el numero del candidato por quien se voto: 2\n",
            "Ingrese el numero del candidato por quien se voto: 2\n",
            "Ingrese el numero del candidato por quien se voto: 4\n",
            "Ingrese el numero del candidato por quien se voto: 0\n",
            "La cantidad de votantes fue de: 12 \n",
            "La cantidad de votos del candidato 1 fue de: 2 y su porsentaje fue de: 16.666666666666664\n",
            "La cantidad de votos del candidato 2 fue de: 3 y su porsentaje fue de: 25.0\n",
            "La cantidad de votos del candidato 3 fue de: 2 y su porsentaje fue de: 16.666666666666664\n",
            "La cantidad de votos del candidato 4 fue de: 5 y su porsentaje fue de: 41.66666666666667\n",
            "fin del programa\n"
          ],
          "name": "stdout"
        }
      ]
    },
    {
      "cell_type": "code",
      "metadata": {
        "id": "lhioSuM_KHhA",
        "colab": {
          "base_uri": "https://localhost:8080/"
        },
        "outputId": "71cc6132-889e-4982-e181-4d2c5809553c"
      },
      "source": [
        "# Ejercicio 3.12\r\n",
        "# De una emresa con N empleados se necesita obtener el numero de empleado y sueldo de trabajador con el mayor sueldo de la empresa\r\n",
        "\r\n",
        "M = 0\r\n",
        "N = int(input(\"Ingrese el numero de trabajadores: \"))\r\n",
        "a = 1\r\n",
        "\r\n",
        "while a <= N:\r\n",
        "  nt = input(\"Ingrese el numero del trabajador: \")\r\n",
        "  sue = float(input(\"Ingrese el sueldo del trabajador: \"))\r\n",
        "  if sue > M:\r\n",
        "    M = sue\r\n",
        "    mnt = nt\r\n",
        "  a = a + 1\r\n",
        "\r\n",
        "print(f\"El numero del trabajador con mas sueldo es : {mnt} y su sueldo es de: {M}\")"
      ],
      "execution_count": null,
      "outputs": [
        {
          "output_type": "stream",
          "text": [
            "Ingrese el numero de trabajadores: 6\n",
            "Ingrese el numero del trabajador: 1235\n",
            "Ingrese el sueldo del trabajador: 2580\n",
            "Ingrese el numero del trabajador: 1260\n",
            "Ingrese el sueldo del trabajador: 1400\n",
            "Ingrese el numero del trabajador: 1325\n",
            "Ingrese el sueldo del trabajador: 3600\n",
            "Ingrese el numero del trabajador: 1418\n",
            "Ingrese el sueldo del trabajador: 2720\n",
            "Ingrese el numero del trabajador: 1650\n",
            "Ingrese el sueldo del trabajador: 4120\n",
            "Ingrese el numero del trabajador: 1717\n",
            "Ingrese el sueldo del trabajador: 1950\n",
            "El numero del trabajador con mas sueldo es : 1650 y su sueldo es de: 4120.0\n"
          ],
          "name": "stdout"
        }
      ]
    },
    {
      "cell_type": "code",
      "metadata": {
        "id": "O08rljS_KH8X",
        "colab": {
          "base_uri": "https://localhost:8080/"
        },
        "outputId": "912f54a4-7893-4b01-8860-3ee356ab84f9"
      },
      "source": [
        "# Ejercicio 3.13\r\n",
        "# En el centro metereologico de argentina se llevan los promedios mensuales de las lluvias caidas en las regiones principales del pais que se \r\n",
        "#dividen en 3: Norte, sur y centro.\r\n",
        "#El programa calcula: \r\n",
        "#a) El promedio anual de la region centro\r\n",
        "#b) El mes y registro con menos lluvia en la zona sur\r\n",
        "#c) La region con mayor lluvia anual\r\n",
        "\r\n",
        "LN = 0\r\n",
        "LC = 0\r\n",
        "LS = 0\r\n",
        "Mr = 1000000\r\n",
        "a = 1\r\n",
        "\r\n",
        "while a <= 12:\r\n",
        "  lln = float(input(\"Ingrese el promedio de lluvias en la region norte:\"))\r\n",
        "  llc = float(input(\"Ingrese el promedio de lluvias en la region centro:\"))\r\n",
        "  lls = float(input(\"Ingrese el promedio de lluvias en la region sur:\"))\r\n",
        "  LN = LN + lln\r\n",
        "  LC = LC + llc\r\n",
        "  LS = LS + lls\r\n",
        "  if lls < Mr:\r\n",
        "    Mr = lls\r\n",
        "    mes = a\r\n",
        "  a = a + 1\r\n",
        "\r\n",
        "pac = LC/12\r\n",
        "\r\n",
        "print(f\"El promedio de lluvias de la region centro es: {pac}\")\r\n",
        "print(f\"Mes con menor lluvia registrada en la zona sur: {mes}, cuyo registro fue: {Mr}\")\r\n",
        "\r\n",
        "if LN > LC:\r\n",
        "  if LN > LS:\r\n",
        "    print(\"La zona con mayor lluvia es la region norte\")\r\n",
        "  else:\r\n",
        "    print(\"La zona con mayor lluvia es la region sur\")\r\n",
        "else:\r\n",
        "  if LC > LS:\r\n",
        "    print(\"La zona con mayor lluvia es la region centro\")\r\n",
        "  else: \r\n",
        "    print(\"La zona con mayor lluvia es la region sur\")\r\n"
      ],
      "execution_count": null,
      "outputs": [
        {
          "output_type": "stream",
          "text": [
            "Ingrese el promedio de lluvias en la region norte:80\n",
            "Ingrese el promedio de lluvias en la region centro:70\n",
            "Ingrese el promedio de lluvias en la region sur:170\n",
            "Ingrese el promedio de lluvias en la region norte:60\n",
            "Ingrese el promedio de lluvias en la region centro:85\n",
            "Ingrese el promedio de lluvias en la region sur:100\n",
            "Ingrese el promedio de lluvias en la region norte:120\n",
            "Ingrese el promedio de lluvias en la region centro:100\n",
            "Ingrese el promedio de lluvias en la region sur:185\n",
            "Ingrese el promedio de lluvias en la region norte:100\n",
            "Ingrese el promedio de lluvias en la region centro:90\n",
            "Ingrese el promedio de lluvias en la region sur:88\n",
            "Ingrese el promedio de lluvias en la region norte:70\n",
            "Ingrese el promedio de lluvias en la region centro:82\n",
            "Ingrese el promedio de lluvias en la region sur:80\n",
            "Ingrese el promedio de lluvias en la region norte:150\n",
            "Ingrese el promedio de lluvias en la region centro:130\n",
            "Ingrese el promedio de lluvias en la region sur:122\n",
            "Ingrese el promedio de lluvias en la region norte:100\n",
            "Ingrese el promedio de lluvias en la region centro:95\n",
            "Ingrese el promedio de lluvias en la region sur:67\n",
            "Ingrese el promedio de lluvias en la region norte:47\n",
            "Ingrese el promedio de lluvias en la region centro:38\n",
            "Ingrese el promedio de lluvias en la region sur:55\n",
            "Ingrese el promedio de lluvias en la region norte:95\n",
            "Ingrese el promedio de lluvias en la region centro:115\n",
            "Ingrese el promedio de lluvias en la region sur:110\n",
            "Ingrese el promedio de lluvias en la region norte:70\n",
            "Ingrese el promedio de lluvias en la region centro:62\n",
            "Ingrese el promedio de lluvias en la region sur:833\n",
            "Ingrese el promedio de lluvias en la region norte:100\n",
            "Ingrese el promedio de lluvias en la region centro:87\n",
            "Ingrese el promedio de lluvias en la region sur:107\n",
            "Ingrese el promedio de lluvias en la region norte:130\n",
            "Ingrese el promedio de lluvias en la region centro:103\n",
            "Ingrese el promedio de lluvias en la region sur:148\n",
            "El promedio de lluvias de la region centro es: 88.08333333333333\n",
            "Mes con menor lluvia registrada en la zona sur: 8, cuyo registro fue: 55.0\n",
            "La zona con mayor lluvia es la region sur\n"
          ],
          "name": "stdout"
        }
      ]
    },
    {
      "cell_type": "code",
      "metadata": {
        "id": "XyCb7FUHKRXx",
        "colab": {
          "base_uri": "https://localhost:8080/"
        },
        "outputId": "06418673-060e-472e-e0c8-d3ec1184971a"
      },
      "source": [
        "# Ejercicio 3.14\r\n",
        "#En un estadio se tienen 5 tipos diferentes de localidades, las cuales se identifican por una clave numerica que es un valor comprendido\r\n",
        "#entre 1 y 5, El programa realiza:\r\n",
        "#a) lee los precios\r\n",
        "#b) lee los datos de las ventas de los boletos \r\n",
        "#c) imprime para cada venta, la clave, la cantidad, y el importe total de los boletos vendidos en esta venta\r\n",
        "#d) calcula e imprime la cantidad de boletos vendidos de cada tipo\r\n",
        "#e) calcula e imprime la recaudacion total del estadio\r\n",
        "\r\n",
        "b1 = 0\r\n",
        "b2 = 0\r\n",
        "b3 = 0\r\n",
        "b4 = 0\r\n",
        "b5 = 0\r\n",
        "rt = 0\r\n",
        "p1 = float(input(\"Ingrese el precio de los boletos de la localidad 1: \"))\r\n",
        "p2 = float(input(\"Ingrese el precio de los boletos de la localidad 2: \"))\r\n",
        "p3 = float(input(\"Ingrese el precio de los boletos de la localidad 3: \"))\r\n",
        "p4 = float(input(\"Ingrese el precio de los boletos de la localidad 4: \"))\r\n",
        "p5 = float(input(\"Ingrese el precio de los boletos de la localidad 5: \"))\r\n",
        "clave = int(input(\"Ingrese la clave de localidad: \"))\r\n",
        "n = int(input(\"Ingrese la cantidad de boletos: \"))\r\n",
        "\r\n",
        "while clave != -1 and n != -1:\r\n",
        "  if clave == 1:\r\n",
        "    p = round(n * p1, 2)\r\n",
        "    b1 = b1 + n\r\n",
        "  elif clave == 2:\r\n",
        "    p = round(n * p2, 2)\r\n",
        "    b2 = b2 + n\r\n",
        "  elif clave == 3:\r\n",
        "    p = round(n * p3, 2)\r\n",
        "    b3 = b3 + n\r\n",
        "  elif clave == 4:\r\n",
        "    p = round(n * p4, 2)\r\n",
        "    b4 = b4 + n\r\n",
        "  elif clave == 5:\r\n",
        "    p = round(n * p5, 2)\r\n",
        "    b5 = b5 + n\r\n",
        "  print(f\"{n} con clave {clave}, precio: {p}\")\r\n",
        "  rt = rt + p\r\n",
        "  clave = int(input(\"Ingrese la clave de localidad: \"))\r\n",
        "  n = int(input(\"Ingrese la cantidad de boletos: \"))\r\n",
        "\r\n",
        "print(f\"la cantidad de boletos de clave 1 fue de: {b1}\")\r\n",
        "print(f\"la cantidad de boletos de clave 2 fue de: {b2}\")\r\n",
        "print(f\"la cantidad de boletos de clave 3 fue de: {b3}\")\r\n",
        "print(f\"la cantidad de boletos de clave 4 fue de: {b4}\")\r\n",
        "print(f\"la cantidad de boletos de clave 5 fue de: {b5}\")\r\n",
        "print(f\"la recaudacion total fue de: {rt} pesos\")  "
      ],
      "execution_count": null,
      "outputs": [
        {
          "output_type": "stream",
          "text": [
            "Ingrese el precio de los boletos de la localidad 1: 7.25\n",
            "Ingrese el precio de los boletos de la localidad 2: 15.80\n",
            "Ingrese el precio de los boletos de la localidad 3: 25.00\n",
            "Ingrese el precio de los boletos de la localidad 4: 50.00\n",
            "Ingrese el precio de los boletos de la localidad 5: 75.00\n",
            "Ingrese la clave de localidad: 2\n",
            "Ingrese la cantidad de boletos: 3\n",
            "3 con clave 2, precio: 47.4\n",
            "Ingrese la clave de localidad: 3\n",
            "Ingrese la cantidad de boletos: 8\n",
            "8 con clave 3, precio: 200.0\n",
            "Ingrese la clave de localidad: 2\n",
            "Ingrese la cantidad de boletos: 4\n",
            "4 con clave 2, precio: 63.2\n",
            "Ingrese la clave de localidad: 1\n",
            "Ingrese la cantidad de boletos: 6\n",
            "6 con clave 1, precio: 43.5\n",
            "Ingrese la clave de localidad: 4\n",
            "Ingrese la cantidad de boletos: 5\n",
            "5 con clave 4, precio: 250.0\n",
            "Ingrese la clave de localidad: -1\n",
            "Ingrese la cantidad de boletos: -1\n",
            "la cantidad de boletos de clave 1 fue de: 6\n",
            "la cantidad de boletos de clave 2 fue de: 7\n",
            "la cantidad de boletos de clave 3 fue de: 8\n",
            "la cantidad de boletos de clave 4 fue de: 5\n",
            "la cantidad de boletos de clave 5 fue de: 0\n",
            "la recaudacion total fue de: 604.1 pesos\n"
          ],
          "name": "stdout"
        }
      ]
    },
    {
      "cell_type": "code",
      "metadata": {
        "id": "97O3PxAdKSNE",
        "colab": {
          "base_uri": "https://localhost:8080/"
        },
        "outputId": "f8d1367b-a97d-4a08-e5fc-58ed41c3fda1"
      },
      "source": [
        "# Ejercicio 3.15\r\n",
        "# Programa que calcula la cantidad a pagar de llamadas telefonicas segun el siguiente criterio:\r\n",
        "# Internacional: 3 primeros minutos -> $7.59; cada minuto adicional -> $3.03\r\n",
        "# Nacional: 3 primeros minutos -> $1.20; cada minuto adicional -> $0.48\r\n",
        "# Local: las primeras 50 llamadas son gratis, luego cada llamada cuesta $0.60\r\n",
        "\r\n",
        "Ll = 0\r\n",
        "c = 0\r\n",
        "t = input(\"Ingrese el tipo de llamada: \")\r\n",
        "M = int(input(\"Ingrese la duracion de la llamada en minutos: \"))\r\n",
        "\r\n",
        "while t == \"I\" or t == \"N\" or t == \"L\" and M != -1:\r\n",
        "  if t == \"I\":\r\n",
        "    if M <= 3:\r\n",
        "      p = 7.59\r\n",
        "    else:\r\n",
        "      p = 7.59 + (M - 3) * 3.03\r\n",
        "  elif t == \"N\":\r\n",
        "    if M <= 3:\r\n",
        "      p = 1.20\r\n",
        "    else:\r\n",
        "      p = 1.20 + (M - 3) * 0.48\r\n",
        "  elif t == \"L\":\r\n",
        "    Ll = Ll + 1\r\n",
        "    if Ll <= 50:\r\n",
        "      p = 0\r\n",
        "    else:\r\n",
        "      p = 0.60\r\n",
        "  c = c + p\r\n",
        "  t = input(\"Ingrese el tipo de llamada: \")\r\n",
        "  M = int(input(\"Ingrese la duracion de la llamada en minutos: \")) \r\n",
        "\r\n",
        "print(f\"La cuenta es de: {c}\")\r\n"
      ],
      "execution_count": null,
      "outputs": [
        {
          "output_type": "stream",
          "text": [
            "Ingrese el tipo de llamada: I\n",
            "Ingrese la duracion de la llamada en minutos: 7\n",
            "Ingrese el tipo de llamada: N\n",
            "Ingrese la duracion de la llamada en minutos: 6\n",
            "Ingrese el tipo de llamada: N\n",
            "Ingrese la duracion de la llamada en minutos: 12\n",
            "Ingrese el tipo de llamada: L\n",
            "Ingrese la duracion de la llamada en minutos: 5\n",
            "Ingrese el tipo de llamada: L\n",
            "Ingrese la duracion de la llamada en minutos: 7\n",
            "Ingrese el tipo de llamada: X\n",
            "Ingrese la duracion de la llamada en minutos: -1\n",
            "La cuenta es de: 27.87\n"
          ],
          "name": "stdout"
        }
      ]
    },
    {
      "cell_type": "code",
      "metadata": {
        "id": "Ll4RgwvdKSva",
        "colab": {
          "base_uri": "https://localhost:8080/"
        },
        "outputId": "329108c7-8960-434f-8040-0602cdb53cdd"
      },
      "source": [
        "# Ejercicio 3.16\r\n",
        "# En una bodega se tiene informacion sobre las cantidades producidas de cada tipo de vino a lo largo de los ultimos años\r\n",
        "# El programa calcula e imprime:\r\n",
        "# a) El total producido de cada tipo de vino (son 5) a lo largo de los N años\r\n",
        "# b) El total de vino producido por año\r\n",
        "# c) Año en la que se produjo la mayor cantidad de litros y cuantos litros de vino de tipo 2.\r\n",
        "# d) Verificar si hubo algun año en el cual no se produjo el vino tipo 3 e imprimir en caso de asi ser\r\n",
        "\r\n",
        "T1 = 0\r\n",
        "T2 = 0\r\n",
        "T3 = 0\r\n",
        "T4 = 0\r\n",
        "T5 = 0\r\n",
        "n = int(input(\"Ingrese la cantidad de años que quiere saber la informacion: \"))\r\n",
        "a = 1\r\n",
        "\r\n",
        "while a <= n:\r\n",
        "  j = 1\r\n",
        "  tv = 0\r\n",
        "  while j <= 5:\r\n",
        "    v = float(input(\"ingrese la cantidad de litros de vino: \"))\r\n",
        "    tv = tv + v\r\n",
        "    if j == 1:\r\n",
        "      T1 = T1 + v\r\n",
        "    elif j == 2:\r\n",
        "      T2 = T2 + v\r\n",
        "      ct2 = 0\r\n",
        "      if v > ct2:\r\n",
        "        ct2 = v\r\n",
        "        año = 1\r\n",
        "    elif j == 3:\r\n",
        "      T3 = T3 + v\r\n",
        "      if v == 0:\r\n",
        "        print(f\"El año {a} no se produjo vino tipo 3\")\r\n",
        "    elif j == 4:\r\n",
        "      T4 = T4 + v\r\n",
        "    elif j == 5:\r\n",
        "      T5 = T5 + v\r\n",
        "    j = j+1\r\n",
        "  print(f\"Total litros producidos por año: {tv}\")\r\n",
        "  a = a + 1\r\n",
        "\r\n",
        "print(f\"la cantidad total de tipo 1 fue: {T1}\")\r\n",
        "print(f\"la cantidad total de tipo 2 fue: {T2}\")\r\n",
        "print(f\"la cantidad total de tipo 3 fue: {T3}\")\r\n",
        "print(f\"la cantidad total de tipo 4 fue: {T4}\")\r\n",
        "print(f\"la cantidad total de tipo 5 fue: {T5}\")\r\n",
        "print(f\"El año en el que se produjo mayor cantidad de vino tipo 2 fue: {año} año, con una cantidad de: {ct2} litros\")"
      ],
      "execution_count": 3,
      "outputs": [
        {
          "output_type": "stream",
          "text": [
            "Ingrese la cantidad de años que quiere saber la informacion: 3\n",
            "ingrese la cantidad de litros de vino: 50\n",
            "ingrese la cantidad de litros de vino: 60\n",
            "ingrese la cantidad de litros de vino: 70\n",
            "ingrese la cantidad de litros de vino: 0\n",
            "ingrese la cantidad de litros de vino: 50\n",
            "Total litros producidos por año: 230.0\n",
            "ingrese la cantidad de litros de vino: 90\n",
            "ingrese la cantidad de litros de vino: 0\n",
            "ingrese la cantidad de litros de vino: 15\n",
            "ingrese la cantidad de litros de vino: 80\n",
            "ingrese la cantidad de litros de vino: 60\n",
            "Total litros producidos por año: 245.0\n",
            "ingrese la cantidad de litros de vino: 105\n",
            "ingrese la cantidad de litros de vino: 42\n",
            "ingrese la cantidad de litros de vino: 0\n",
            "El año 3 no se produjo vino tipo 3\n",
            "ingrese la cantidad de litros de vino: 90\n",
            "ingrese la cantidad de litros de vino: 70\n",
            "Total litros producidos por año: 307.0\n",
            "la cantidad total de tipo 1 fue: 245.0\n",
            "la cantidad total de tipo 2 fue: 102.0\n",
            "la cantidad total de tipo 3 fue: 85.0\n",
            "la cantidad total de tipo 4 fue: 170.0\n",
            "la cantidad total de tipo 5 fue: 180.0\n",
            "El año en el que se produjo mayor cantidad de vino tipo 2 fue: 1 año, con una cantidad de: 42.0 litros\n"
          ],
          "name": "stdout"
        }
      ]
    },
    {
      "cell_type": "code",
      "metadata": {
        "id": "ZcUyvsu-KTMm",
        "colab": {
          "base_uri": "https://localhost:8080/"
        },
        "outputId": "94dfa0c5-7730-42a0-8a1b-71b47308891a"
      },
      "source": [
        "# Ejercicio 3.17\r\n",
        "# El programa lee un numero entero positivo N y obtiene e imprime todos los numeros primos menores a N\r\n",
        "\r\n",
        "a = 3\r\n",
        "sp = 0\r\n",
        "m = int(input(\"Ingrese un numero entero positivo: \"))\r\n",
        "if m >= 1:\r\n",
        "  sp = sp + 1\r\n",
        "  print(\"numero primo:\", 1)\r\n",
        "  if m >= 2:\r\n",
        "    sp = sp + 1\r\n",
        "    print(\"numero primo:\", 2)\r\n",
        "\r\n",
        "while a <= m:\r\n",
        "  band = True\r\n",
        "  j = 3\r\n",
        "  while j < (a / 2) and band == True:\r\n",
        "    if a / j == 1:\r\n",
        "      band = False\r\n",
        "    j = j + 2\r\n",
        "  if band == True:\r\n",
        "    print(\"numero primo\", a)\r\n",
        "    sp = sp + 1\r\n",
        "  a = a + 2\r\n",
        "print(f\"Entre 1 y {m} hay {sp} numeros primos\")\r\n"
      ],
      "execution_count": 9,
      "outputs": [
        {
          "output_type": "stream",
          "text": [
            "Ingrese un numero entero positivo: 13\n",
            "numero primo: 1\n",
            "numero primo: 2\n",
            "numero primo 3\n",
            "numero primo 5\n",
            "numero primo 7\n",
            "numero primo 9\n",
            "numero primo 11\n",
            "numero primo 13\n",
            "Entre 1 y 13 hay 8 numeros primos\n"
          ],
          "name": "stdout"
        }
      ]
    }
  ]
}