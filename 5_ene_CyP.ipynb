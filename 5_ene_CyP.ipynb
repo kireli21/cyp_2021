{
  "nbformat": 4,
  "nbformat_minor": 0,
  "metadata": {
    "colab": {
      "name": "5_ene_CyP.ipynb",
      "provenance": [],
      "authorship_tag": "ABX9TyMLcWE6rYYASB6eG/46hIdy",
      "include_colab_link": true
    },
    "kernelspec": {
      "name": "python3",
      "display_name": "Python 3"
    }
  },
  "cells": [
    {
      "cell_type": "markdown",
      "metadata": {
        "id": "view-in-github",
        "colab_type": "text"
      },
      "source": [
        "<a href=\"https://colab.research.google.com/github/kireli21/cyp_2021/blob/main/5_ene_CyP.ipynb\" target=\"_parent\"><img src=\"https://colab.research.google.com/assets/colab-badge.svg\" alt=\"Open In Colab\"/></a>"
      ]
    },
    {
      "cell_type": "code",
      "metadata": {
        "colab": {
          "base_uri": "https://localhost:8080/"
        },
        "id": "cV3ymM_Di_9p",
        "outputId": "82facf65-3e4b-4913-e3c0-154a453de905"
      },
      "source": [
        "sueldos = [0.0 for x in range(7)]\r\n",
        "print(sueldos)\r\n",
        "sueldos[0] = 12.3\r\n",
        "sueldos[1] = 12.1\r\n",
        "sueldos[2] = 34.3\r\n",
        "sueldos[3] = 152.3\r\n",
        "sueldos[4] = 13.3\r\n",
        "sueldos[5] = 11.3\r\n",
        "sueldos[6] = 124.3\r\n",
        "print(sueldos)\r\n",
        "\"\"\"\r\n",
        "for j in range(7):\r\n",
        "  sueldos[j]=float(input(\"introduce un sueldo\"))\r\n",
        "print(sueldos)\r\n",
        "\"\"\"\r\n",
        "#otra forma\r\n",
        "\r\n",
        "sueldos = [float(x) for x in range(7)]\r\n",
        "for i in range(0, 7):\r\n",
        "  sueldos[i] = float(i)+1.0\r\n",
        "print(sueldos)\r\n",
        "\r\n",
        "#otra\r\n",
        "\r\n",
        "sueldos = [0.0 for x in range(7)]\r\n",
        "print(sueldos)\r\n",
        "i= 0\r\n",
        "nue_valor= 1.0\r\n",
        "for i in range(7):\r\n",
        "  sueldos[i]= nue_valor\r\n",
        "  nue_valor= nue_valor + 1\r\n",
        "  i= i + 1\r\n",
        "print(sueldos)\r\n",
        "\r\n",
        "for i in range(7):\r\n",
        "  print(f\"El trabajador {int(i)+1} gana ${sueldos[i]}\")"
      ],
      "execution_count": 12,
      "outputs": [
        {
          "output_type": "stream",
          "text": [
            "[0.0, 0.0, 0.0, 0.0, 0.0, 0.0, 0.0]\n",
            "[12.3, 12.1, 34.3, 152.3, 13.3, 11.3, 124.3]\n",
            "[1.0, 2.0, 3.0, 4.0, 5.0, 6.0, 7.0]\n",
            "[0.0, 0.0, 0.0, 0.0, 0.0, 0.0, 0.0]\n",
            "[1.0, 2.0, 3.0, 4.0, 5.0, 6.0, 7.0]\n",
            "El trabajador 1 gana $1.0\n",
            "El trabajador 2 gana $2.0\n",
            "El trabajador 3 gana $3.0\n",
            "El trabajador 4 gana $4.0\n",
            "El trabajador 5 gana $5.0\n",
            "El trabajador 6 gana $6.0\n",
            "El trabajador 7 gana $7.0\n"
          ],
          "name": "stdout"
        }
      ]
    },
    {
      "cell_type": "code",
      "metadata": {
        "colab": {
          "base_uri": "https://localhost:8080/"
        },
        "id": "c_Pjfo9woyXa",
        "outputId": "4dace17e-1d27-4bf8-d56a-33fbf42ac090"
      },
      "source": [
        "#ejercicio 4.1\r\n",
        "Max = 7\r\n",
        "sueldos = [0.0 for x in range(Max)]\r\n",
        "sum = 0.0\r\n",
        "prom = 0.0\r\n",
        "\r\n",
        "for i in range(Max):\r\n",
        "  sueldos[i] = float(input(\"Dame el sueldo: \"))\r\n",
        "\r\n",
        "for i in range(Max):\r\n",
        "  print(f\"trabajador {i+1}, gana: {sueldos[i]}\")\r\n",
        "\r\n",
        "for i in range(Max):\r\n",
        "  sum = sum + sueldos[i]\r\n",
        "\r\n",
        "prom = sum / Max\r\n",
        "\r\n",
        "print(f\"El promedio de sueldo es ${prom}\")\r\n",
        "\r\n",
        "for i in range(Max):\r\n",
        "  if sueldos[i] > prom:\r\n",
        "    print(f\"El trabajador {i+1} tiene un sueldo mayor al promedio\")"
      ],
      "execution_count": 19,
      "outputs": [
        {
          "output_type": "stream",
          "text": [
            "Dame el sueldo: 4\n",
            "Dame el sueldo: 5\n",
            "Dame el sueldo: 4\n",
            "Dame el sueldo: 5\n",
            "Dame el sueldo: 4\n",
            "Dame el sueldo: 5\n",
            "Dame el sueldo: 4\n",
            "trabajador 1, gana: 4.0\n",
            "trabajador 2, gana: 5.0\n",
            "trabajador 3, gana: 4.0\n",
            "trabajador 4, gana: 5.0\n",
            "trabajador 5, gana: 4.0\n",
            "trabajador 6, gana: 5.0\n",
            "trabajador 7, gana: 4.0\n",
            "El promedio de sueldo es $4.428571428571429\n",
            "El trabajador 2 tiene un sueldo mayor al promedio\n",
            "El trabajador 4 tiene un sueldo mayor al promedio\n",
            "El trabajador 6 tiene un sueldo mayor al promedio\n"
          ],
          "name": "stdout"
        }
      ]
    },
    {
      "cell_type": "code",
      "metadata": {
        "colab": {
          "base_uri": "https://localhost:8080/"
        },
        "id": "4E1a5uqrsr5d",
        "outputId": "bd555c64-a137-4492-acc5-e3d17f8bda06"
      },
      "source": [
        "#hacer un programa que solicite 5 valores enteros positivos y una vez capturados el programa determine lo sig:\r\n",
        "#- cual es el mayor\r\n",
        "#- cual es el menor\r\n",
        "#- promedio\r\n",
        "\r\n",
        "Max = 5\r\n",
        "valor =  [0.0 for x in range(Max)]\r\n",
        "sum = 0.0\r\n",
        "prom = 0.0\r\n",
        "M = 0\r\n",
        "m = 100000000\r\n",
        "\r\n",
        "for i in range(Max):\r\n",
        "  valor[i] = int(input(\"Dame un valor entero positivo: \"))\r\n",
        "  if valor[i] > M:\r\n",
        "    M = valor[i]\r\n",
        "  elif valor[i] < m:\r\n",
        "    m = valor[i]\r\n",
        "\r\n",
        "for i in range(Max):\r\n",
        "  sum = sum + valor[i]\r\n",
        "\r\n",
        "prom = sum / Max\r\n",
        "\r\n",
        "print(f\"El numero mayor es {M}\")\r\n",
        "print(f\"El numero menor es {m}\")\r\n",
        "print(f\"El promedio es {prom}\")"
      ],
      "execution_count": 20,
      "outputs": [
        {
          "output_type": "stream",
          "text": [
            "Dame un valor entero positivo: 87\n",
            "Dame un valor entero positivo: 1\n",
            "Dame un valor entero positivo: 2\n",
            "Dame un valor entero positivo: 5\n",
            "Dame un valor entero positivo: 9\n",
            "El numero mayor es 87\n",
            "El numero menor es 1\n",
            "El promedio es 20.8\n"
          ],
          "name": "stdout"
        }
      ]
    },
    {
      "cell_type": "code",
      "metadata": {
        "colab": {
          "base_uri": "https://localhost:8080/"
        },
        "id": "LcpXFdcavwvI",
        "outputId": "ff102773-b8f8-46ed-eb18-c6a628fff2b1"
      },
      "source": [
        "#problema 4.1\r\n",
        "\r\n",
        "N = int(input(\"ingrese el numero de elementos del arreglo: \"))\r\n",
        "Vec = []\r\n",
        "if 1 <= N and N <= 500:\r\n",
        "  Vec = [0 for x in range(N)]\r\n",
        "  for I in range(N):\r\n",
        "    Vec[I] = int(input(\"ingrese valor \"+ str(I + 1) + \": \"))\r\n",
        "  print(\"lista de numeros sin repiticiones:\")\r\n",
        "  I = 0\r\n",
        "  while I < N :\r\n",
        "    print(I, \"-\", Vec[I])\r\n",
        "    repet = Vec[I]\r\n",
        "    while I <= N and repet == Vec[I]:\r\n",
        "      I = I + 1\r\n",
        "    I = I + 1\r\n",
        "else:\r\n",
        "  print(\"El numero de elementos de arreglo es INCORRECTO\")"
      ],
      "execution_count": 34,
      "outputs": [
        {
          "output_type": "stream",
          "text": [
            "ingrese el numero de elementos del arreglo: 10\n",
            "ingrese valor 1: 2 \n",
            "ingrese valor 2: 3\n",
            "ingrese valor 3: 3\n",
            "ingrese valor 4: 3\n",
            "ingrese valor 5: 10\n",
            "ingrese valor 6: 20\n",
            "ingrese valor 7: 20\n",
            "ingrese valor 8: 40\n",
            "ingrese valor 9: 43\n",
            "ingrese valor 10: 51\n",
            "lista de numeros sin repiticiones:\n",
            "0 - 2\n",
            "2 - 3\n",
            "5 - 20\n",
            "8 - 43\n"
          ],
          "name": "stdout"
        }
      ]
    }
  ]
}