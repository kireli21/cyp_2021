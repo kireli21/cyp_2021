{
  "nbformat": 4,
  "nbformat_minor": 0,
  "metadata": {
    "colab": {
      "name": "12_ene_CyP.ipynb",
      "provenance": [],
      "authorship_tag": "ABX9TyPOw/miTCVJ7rYXeSUvec0/",
      "include_colab_link": true
    },
    "kernelspec": {
      "name": "python3",
      "display_name": "Python 3"
    }
  },
  "cells": [
    {
      "cell_type": "markdown",
      "metadata": {
        "id": "view-in-github",
        "colab_type": "text"
      },
      "source": [
        "<a href=\"https://colab.research.google.com/github/kireli21/cyp_2021/blob/main/12_ene_CyP.ipynb\" target=\"_parent\"><img src=\"https://colab.research.google.com/assets/colab-badge.svg\" alt=\"Open In Colab\"/></a>"
      ]
    },
    {
      "cell_type": "code",
      "metadata": {
        "colab": {
          "base_uri": "https://localhost:8080/"
        },
        "id": "o0u4cUEblroP",
        "outputId": "8bc91554-297b-4cba-f6ff-735f87ca8e83"
      },
      "source": [
        "#primer programa python\r\n",
        "\r\n",
        "nombre = \"José\"\r\n",
        "edad = 18\r\n",
        "print(\"Hola\", nombre, edad)"
      ],
      "execution_count": 3,
      "outputs": [
        {
          "output_type": "stream",
          "text": [
            "Hola José 18\n"
          ],
          "name": "stdout"
        }
      ]
    },
    {
      "cell_type": "code",
      "metadata": {
        "colab": {
          "base_uri": "https://localhost:8080/"
        },
        "id": "Zz7XZRaJwglk",
        "outputId": "2a18f192-5c09-442e-8134-b878817556a0"
      },
      "source": [
        "print(\"Hola\", nombre, edad)\r\n",
        "print(\"Hola\" + nombre + str(edad))\r\n",
        "#Nombre: Jose, con una edad de: 18 años\r\n",
        "print(\"nombre:\", nombre, \"con una edad de:\", edad, \"Años\")\r\n",
        "print(\"nombre: \"+ nombre + \" con una edad de: \" + str(edad) + \" Años\")\r\n",
        "#con format()\r\n",
        "print(\"Nombre: {0} con una edad de: {1} años\".format(nombre,edad))\r\n",
        "#con el operador f\r\n",
        "print(f\"Nombre: {nombre} con una edad de: {edad} años\")"
      ],
      "execution_count": 18,
      "outputs": [
        {
          "output_type": "stream",
          "text": [
            "Hola José 18\n",
            "HolaJosé18\n",
            "nombre: José con una edad de: 18 Años\n",
            "nombre: José con una edad de: 18 Años\n",
            "Nombre: José con una edad de: 18 años\n",
            "Nombre: José con una edad de: 18 años\n"
          ],
          "name": "stdout"
        }
      ]
    },
    {
      "cell_type": "code",
      "metadata": {
        "colab": {
          "base_uri": "https://localhost:8080/"
        },
        "id": "32DqbWUB2k8Y",
        "outputId": "3ef0dbef-3a57-46ca-f265-35ea22b28360"
      },
      "source": [
        "print('\"')\r\n",
        "print(\"\\\"\")\r\n",
        "print(\"nombre: José\\n\\tcon una edad \\de: 18 Años\")\r\n",
        "#caracteres unicode\r\n",
        "\r\n",
        "print(\"Hola \\u260f\")"
      ],
      "execution_count": 28,
      "outputs": [
        {
          "output_type": "stream",
          "text": [
            "\"\n",
            "\"\n",
            "nombre: José\n",
            "\tcon una edad \\de: 18 Años\n",
            "Hola ☏\n"
          ],
          "name": "stdout"
        }
      ]
    },
    {
      "cell_type": "code",
      "metadata": {
        "colab": {
          "base_uri": "https://localhost:8080/"
        },
        "id": "blIf1oEC8U9o",
        "outputId": "f020cb3f-72da-4b70-a755-5d4320a10254"
      },
      "source": [
        "print(\"hola \", end=\"\\u13cd\")\r\n",
        "# comentario de linea simple\r\n",
        "print(\"mundo \", end=\"+++++\")# comentario de linea simple\r\n",
        "print(\"Fin\", end=\"\\n\")\r\n",
        "\r\n",
        "\"\"\"\r\n",
        "esto es \r\n",
        "un comentario de\r\n",
        "multiple linea, cuando se necesite explicar algo\r\n",
        "a mayor detalle\r\n",
        "\"\"\"\r\n",
        "print(\"hola\")\r\n",
        "\r\n",
        "#El apunte lo hice en mi libreta"
      ],
      "execution_count": 35,
      "outputs": [
        {
          "output_type": "stream",
          "text": [
            "hola Ꮝmundo +++++Fin\n",
            "hola\n"
          ],
          "name": "stdout"
        }
      ]
    }
  ]
}