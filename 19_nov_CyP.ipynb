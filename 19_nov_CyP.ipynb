{
  "nbformat": 4,
  "nbformat_minor": 0,
  "metadata": {
    "colab": {
      "name": "19_nov_CyP.ipynb",
      "provenance": [],
      "authorship_tag": "ABX9TyNXYrmmT6Z7b5kcXby5iiBy",
      "include_colab_link": true
    },
    "kernelspec": {
      "name": "python3",
      "display_name": "Python 3"
    }
  },
  "cells": [
    {
      "cell_type": "markdown",
      "metadata": {
        "id": "view-in-github",
        "colab_type": "text"
      },
      "source": [
        "<a href=\"https://colab.research.google.com/github/kireli21/cyp_2021/blob/main/19_nov_CyP.ipynb\" target=\"_parent\"><img src=\"https://colab.research.google.com/assets/colab-badge.svg\" alt=\"Open In Colab\"/></a>"
      ]
    },
    {
      "cell_type": "code",
      "metadata": {
        "colab": {
          "base_uri": "https://localhost:8080/"
        },
        "id": "xYbry-Y0g6qe",
        "outputId": "9d1fd77a-0560-4fc9-baf2-85889290878d"
      },
      "source": [
        "# concepto de asignación\n",
        "I = 0\n",
        "I = I + 1\n",
        "I = I + 1\n",
        "print(f\"I = { I }\")\n",
        "\n",
        "J = 5 ** 2 / 3\n",
        "print(f\"J = { J }\")"
      ],
      "execution_count": 5,
      "outputs": [
        {
          "output_type": "stream",
          "text": [
            "I = 2\n",
            "J = 8.333333333333334\n"
          ],
          "name": "stdout"
        }
      ]
    },
    {
      "cell_type": "code",
      "metadata": {
        "colab": {
          "base_uri": "https://localhost:8080/"
        },
        "id": "EtByKqEmm6dH",
        "outputId": "8591967d-ff8a-4f9e-87a9-0bccb82ceb96"
      },
      "source": [
        "# declaración de variables (apartar espacio en la memoria)\n",
        "A = 0\n",
        "B = 0\n",
        "C = 0\n",
        "D = 0\n",
        "\n",
        "A = int(input(\"Dame un valor entero: \"))\n",
        "B = int(input(\"Dame un valor entero: \"))\n",
        "C = int(input(\"Dame un valor entero: \"))\n",
        "D = int(input(\"Dame un valor entero: \"))\n",
        "\n",
        "print(D)\n",
        "print(C)\n",
        "print(B)\n",
        "print(A)"
      ],
      "execution_count": 8,
      "outputs": [
        {
          "output_type": "stream",
          "text": [
            "Dame un valor entero: 10\n",
            "Dame un valor entero: 20\n",
            "Dame un valor entero: 30\n",
            "Dame un valor entero: 40\n",
            "40\n",
            "30\n",
            "20\n",
            "10\n"
          ],
          "name": "stdout"
        }
      ]
    },
    {
      "cell_type": "code",
      "metadata": {
        "colab": {
          "base_uri": "https://localhost:8080/"
        },
        "id": "gi1oKTc1pMWg",
        "outputId": "f32c4116-0896-4390-a4ed-3135eae4b9a1"
      },
      "source": [
        "# ejemplo 1.7\n",
        "A = 0\n",
        "B = 0\n",
        "Res = 0\n",
        "A = int(input(\"Dame un entero: \"))\n",
        "B = int(input(\"Dame otro entero: \"))\n",
        "Res = (A+B)**2/3\n",
        "print(Res)"
      ],
      "execution_count": 12,
      "outputs": [
        {
          "output_type": "stream",
          "text": [
            "Dame un entero: 14\n",
            "Dame otro entero: -5\n",
            "27.0\n"
          ],
          "name": "stdout"
        }
      ]
    },
    {
      "cell_type": "code",
      "metadata": {
        "colab": {
          "base_uri": "https://localhost:8080/"
        },
        "id": "SHFdAJCvuCtP",
        "outputId": "fc5926b0-fc1d-4529-d590-93be44dedcd3"
      },
      "source": [
        "# ejemplo 1.8\n",
        "mat = 0\n",
        "cal1 = 0\n",
        "cal2 = 0\n",
        "cal3 = 0\n",
        "cal4 = 0\n",
        "cal5 = 0\n",
        "prom = 0\n",
        "\n",
        "mat=int(input(\"Ingrese la matricula: \"))\n",
        "cal1=float(input(\"Ingrese las calificación 1: \"))\n",
        "cal2=float(input(\"Ingrese las calificación 2: \"))\n",
        "cal3=float(input(\"Ingrese las calificación 3: \"))\n",
        "cal4=float(input(\"Ingrese las calificación 4: \"))\n",
        "cal5=float(input(\"Ingrese las calificación 5: \"))\n",
        "\n",
        "prom=( cal1 + cal2 + cal3 + cal4 + cal5 ) / 5\n",
        "\n",
        "print(mat, prom)\n"
      ],
      "execution_count": 16,
      "outputs": [
        {
          "output_type": "stream",
          "text": [
            "Ingrese la matricula: 16500\n",
            "Ingrese las calificación 1: 8\n",
            "Ingrese las calificación 2: 8.5\n",
            "Ingrese las calificación 3: 9\n",
            "Ingrese las calificación 4: 7\n",
            "Ingrese las calificación 5: 6\n",
            "16500 7.7\n"
          ],
          "name": "stdout"
        }
      ]
    },
    {
      "cell_type": "code",
      "metadata": {
        "colab": {
          "base_uri": "https://localhost:8080/"
        },
        "id": "Y9M55mudxp2t",
        "outputId": "e0a0b714-50c6-490e-e673-6879248cdbb4"
      },
      "source": [
        "# ejemplo 1.9\n",
        "num = 0\n",
        "cua = 0\n",
        "cub = 0\n",
        "\n",
        "num = int(input(\"ingrese un numero: \"))\n",
        "\n",
        "cua = num*num\n",
        "cub = num**3\n",
        "\n",
        "print(\"el cuadrado de \",num,\" es \",cua)\n",
        "print(\"el cubo de \",num,\" es \",cub)"
      ],
      "execution_count": 19,
      "outputs": [
        {
          "output_type": "stream",
          "text": [
            "ingrese un numero: 7\n",
            "el cuadrado de  7  es  49\n",
            "el cubo de  7  es  343\n"
          ],
          "name": "stdout"
        }
      ]
    },
    {
      "cell_type": "code",
      "metadata": {
        "colab": {
          "base_uri": "https://localhost:8080/"
        },
        "id": "i3-_HfT2zTnz",
        "outputId": "f0e8198c-27d8-4f66-a00d-87b4be8b67bc"
      },
      "source": [
        "# ejemplo 1.10\n",
        "base = 0\n",
        "altura = 0\n",
        "super = 0\n",
        "perim = 0\n",
        "\n",
        "base = float(input(\"ingrese la base: \"))\n",
        "altura = float(input(\"ingrese la altura: \"))\n",
        "\n",
        "super = base*altura\n",
        "perim = (2*base)+(2*altura)\n",
        "\n",
        "print(f\"la superficie es: \",super)\n",
        "print(f\"el perimetro es: \", perim)"
      ],
      "execution_count": 20,
      "outputs": [
        {
          "output_type": "stream",
          "text": [
            "ingrese la base: 9\n",
            "ingrese la altura: 8\n",
            "la superficie es:  72.0\n",
            "el perimetro es:  34.0\n"
          ],
          "name": "stdout"
        }
      ]
    }
  ]
}