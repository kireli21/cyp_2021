{
  "nbformat": 4,
  "nbformat_minor": 0,
  "metadata": {
    "colab": {
      "name": "17novCyP.ipynb",
      "provenance": [],
      "authorship_tag": "ABX9TyM50HAmK4KPMQXu4+RyA/wi",
      "include_colab_link": true
    },
    "kernelspec": {
      "name": "python3",
      "display_name": "Python 3"
    }
  },
  "cells": [
    {
      "cell_type": "markdown",
      "metadata": {
        "id": "view-in-github",
        "colab_type": "text"
      },
      "source": [
        "<a href=\"https://colab.research.google.com/github/kireli21/cyp_2021/blob/main/17novCyP.ipynb\" target=\"_parent\"><img src=\"https://colab.research.google.com/assets/colab-badge.svg\" alt=\"Open In Colab\"/></a>"
      ]
    },
    {
      "cell_type": "code",
      "metadata": {
        "id": "ea9LYMKXSAOv"
      },
      "source": [
        "edad = 5\n",
        "estatura = 1.67\n",
        "a = 10\n",
        "b = 3\n",
        "\n",
        "c = 2 ** b + 2 + 3 + 4\n",
        "\n",
        "print(c) \n",
        "\n",
        "e = estatura * 2.0\n",
        "print(e)\n",
        "\n",
        "f = a / b # en python se hace el cálculo exacto\n",
        "print(f) #3.3333\n",
        "\n",
        "# tambien podemos forzar al cálculo de enteros\n",
        "g = a // b\n",
        "print(\"g=\", g)\n",
        "\n",
        "h = a % b #es el residuo de g\n",
        "print(\"h=\", h)\n",
        "\n",
        "num = 11\n",
        "print(\"es par num?\", (num % 2) == 0)\n"
      ],
      "execution_count": null,
      "outputs": []
    },
    {
      "cell_type": "code",
      "metadata": {
        "colab": {
          "base_uri": "https://localhost:8080/"
        },
        "id": "9OmHnLLeXUCW",
        "outputId": "16d01902-4daf-4702-be82-65b78a2be45b"
      },
      "source": [
        "ecuacion = 9 + 7 * 8 - 36 / 5  # 9 + 56 - 7.2 -> 57.8\n",
        "print(ecuacion)\n",
        "\n",
        "ecuacion = 0\n",
        "ecuacion = (9 + 7) * 8 - 36 / 5 #120.8\n",
        "print(ecuacion)\n",
        "\n",
        "ecuacion= 9 + 7 * (8-36) / 5 #-30.20\n",
        "print(ecuacion)\n"
      ],
      "execution_count": 11,
      "outputs": [
        {
          "output_type": "stream",
          "text": [
            "57.8\n"
          ],
          "name": "stdout"
        }
      ]
    },
    {
      "cell_type": "code",
      "metadata": {
        "id": "5040SW3xdKfy"
      },
      "source": [
        "#operadores logicos\n",
        "\n",
        "valor = (5==4) #true\n",
        "print(valor)"
      ],
      "execution_count": null,
      "outputs": []
    },
    {
      "cell_type": "code",
      "metadata": {
        "id": "FuNiKDPydmgo"
      },
      "source": [
        "#operadores logicos --> true y false\n",
        "\n",
        "x = 5\n",
        "y = 4\n",
        "\n",
        "valor = (x==Y) # son iguale?? --> falso\n",
        "print(valor)\n",
        "\n",
        "valor=(x!=y) # son diferentes?? --> true\n",
        "print(valor)\n",
        "\n",
        "valor =(x<y) # x es menor que y?? --> falso\n",
        "print(valor)\n",
        "\n",
        "valor=(x>y) # x es mayor que y?? --> falso\n",
        "\n",
        "y=5\n",
        "valor=(x<=y) #x es menor o igual que y? -> true\n",
        "print(valor)\n",
        "\n",
        "y=5\n",
        "valor=(x>=y) #x es mayor o igual que y? -> true\n",
        "print(valor)"
      ],
      "execution_count": null,
      "outputs": []
    },
    {
      "cell_type": "code",
      "metadata": {
        "colab": {
          "base_uri": "https://localhost:8080/"
        },
        "id": "TEUPUBIHfpB0",
        "outputId": "48390c5d-d8ff-406b-a8b0-45e76048723d"
      },
      "source": [
        "costo_chetos = 7.0\n",
        "tienda_abierta = False\n",
        "capital_en_bolsa = 10.0\n",
        "\n",
        "se_compra = (costo_chetos < capital_en_bolsa) and (tienda_abierta==True)\n",
        "print(se_compra)"
      ],
      "execution_count": 14,
      "outputs": [
        {
          "output_type": "stream",
          "text": [
            "False\n"
          ],
          "name": "stdout"
        }
      ]
    }
  ]
}