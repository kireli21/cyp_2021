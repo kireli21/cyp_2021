{
  "nbformat": 4,
  "nbformat_minor": 0,
  "metadata": {
    "colab": {
      "name": "14_ene_CyP.ipynb",
      "provenance": [],
      "authorship_tag": "ABX9TyNh5ZGpIIRgwG+xjx37GJ2d",
      "include_colab_link": true
    },
    "kernelspec": {
      "name": "python3",
      "display_name": "Python 3"
    }
  },
  "cells": [
    {
      "cell_type": "markdown",
      "metadata": {
        "id": "view-in-github",
        "colab_type": "text"
      },
      "source": [
        "<a href=\"https://colab.research.google.com/github/kireli21/cyp_2021/blob/main/14_ene_CyP.ipynb\" target=\"_parent\"><img src=\"https://colab.research.google.com/assets/colab-badge.svg\" alt=\"Open In Colab\"/></a>"
      ]
    },
    {
      "cell_type": "code",
      "metadata": {
        "colab": {
          "base_uri": "https://localhost:8080/"
        },
        "id": "y5iXoUaJ5Fiv",
        "outputId": "e165aac7-2a91-4dc9-b1e3-f9ebbfd3c2cf"
      },
      "source": [
        "import keyword\r\n",
        "pr = keyword.kwlist\r\n",
        "print( len(pr))\r\n",
        "for palabra in pr:\r\n",
        "  print(palabra , end=\",\")"
      ],
      "execution_count": 2,
      "outputs": [
        {
          "output_type": "stream",
          "text": [
            "33\n",
            "False,None,True,and,as,assert,break,class,continue,def,del,elif,else,except,finally,for,from,global,if,import,in,is,lambda,nonlocal,not,or,pass,raise,return,try,while,with,yield,"
          ],
          "name": "stdout"
        }
      ]
    },
    {
      "cell_type": "code",
      "metadata": {
        "colab": {
          "base_uri": "https://localhost:8080/"
        },
        "id": "OeLO8fVQ8KlK",
        "outputId": "5779d540-d7c1-4d85-99e2-6e217f20a8cb"
      },
      "source": [
        "_2edad = 12\r\n",
        "print(_2edad)"
      ],
      "execution_count": 4,
      "outputs": [
        {
          "output_type": "stream",
          "text": [
            "12\n"
          ],
          "name": "stdout"
        }
      ]
    },
    {
      "cell_type": "code",
      "metadata": {
        "colab": {
          "base_uri": "https://localhost:8080/"
        },
        "id": "0qvYuwwnBtKK",
        "outputId": "1ea8b96c-9e6c-4666-b273-abffb5bd6db7"
      },
      "source": [
        "nombre = 'Jesus'\r\n",
        "lugar_nacimiento = \"Mexico, DF, Tacuba\"\r\n",
        "frase_favorita = \"\"\"\r\n",
        "El conocimiento me persigue,\r\n",
        "pero...\r\n",
        "yo soy más rapido :)\r\n",
        "\"\"\"\r\n",
        "print(nombre)\r\n",
        "print(lugar_nacimiento)\r\n",
        "print(frase_favorita)"
      ],
      "execution_count": 5,
      "outputs": [
        {
          "output_type": "stream",
          "text": [
            "Jesus\n",
            "Mexico, DF, Tacuba\n",
            "\n",
            "El conocimiento me persigue,\n",
            "pero...\n",
            "yo soy más rapido :)\n",
            "\n"
          ],
          "name": "stdout"
        }
      ]
    },
    {
      "cell_type": "code",
      "metadata": {
        "colab": {
          "base_uri": "https://localhost:8080/"
        },
        "id": "LS8lW5NpF5VS",
        "outputId": "1361fe97-4723-4003-c802-a07e49e306b7"
      },
      "source": [
        "nombre = 'Jesús'\r\n",
        "print(nombre)\r\n",
        "print(nombre[0])\r\n",
        "print(nombre[3])\r\n",
        "\r\n"
      ],
      "execution_count": 10,
      "outputs": [
        {
          "output_type": "stream",
          "text": [
            "Jesús\n",
            "J\n",
            "ú\n"
          ],
          "name": "stdout"
        }
      ]
    },
    {
      "cell_type": "code",
      "metadata": {
        "colab": {
          "base_uri": "https://localhost:8080/"
        },
        "id": "7XfbtmDGIdZ-",
        "outputId": "88cfcd20-2769-4f50-91b5-570e832a98e9"
      },
      "source": [
        "for indice in range( len(nombre)):\r\n",
        "  print(indice, end = \" \")\r\n",
        "  print(nombre[indice])"
      ],
      "execution_count": 13,
      "outputs": [
        {
          "output_type": "stream",
          "text": [
            "0 J\n",
            "1 e\n",
            "2 s\n",
            "3 ú\n",
            "4 s\n"
          ],
          "name": "stdout"
        }
      ]
    },
    {
      "cell_type": "code",
      "metadata": {
        "colab": {
          "base_uri": "https://localhost:8080/"
        },
        "id": "CN2S-k2VJ3qI",
        "outputId": "6a226ff0-cff7-43f7-a19b-466874bf55a5"
      },
      "source": [
        "#funcion range(inicio, stop, incremento)\r\n",
        "for indice in range(0, len(nombre), 1):\r\n",
        "  print(nombre[indice])\r\n"
      ],
      "execution_count": 21,
      "outputs": [
        {
          "output_type": "stream",
          "text": [
            "J\n",
            "e\n",
            "s\n",
            "ú\n",
            "s\n"
          ],
          "name": "stdout"
        }
      ]
    },
    {
      "cell_type": "code",
      "metadata": {
        "colab": {
          "base_uri": "https://localhost:8080/"
        },
        "id": "Y_ENGMOaK3uJ",
        "outputId": "397f2232-330b-49ff-c520-98cbeb05ac56"
      },
      "source": [
        "for indice in range(4, -1, -1):\r\n",
        "  print(nombre[indice])"
      ],
      "execution_count": 20,
      "outputs": [
        {
          "output_type": "stream",
          "text": [
            "s\n",
            "ú\n",
            "s\n",
            "e\n",
            "J\n"
          ],
          "name": "stdout"
        }
      ]
    },
    {
      "cell_type": "code",
      "metadata": {
        "colab": {
          "base_uri": "https://localhost:8080/"
        },
        "id": "9phUw4jYMmXH",
        "outputId": "4c566c61-9b14-4094-c8a3-aa7edf25726d"
      },
      "source": [
        "nombre = 'Kareli'\r\n",
        "print(nombre[4])\r\n",
        "print(nombre[-1]) "
      ],
      "execution_count": 22,
      "outputs": [
        {
          "output_type": "stream",
          "text": [
            "l\n",
            "i\n"
          ],
          "name": "stdout"
        }
      ]
    },
    {
      "cell_type": "code",
      "metadata": {
        "colab": {
          "base_uri": "https://localhost:8080/"
        },
        "id": "tnOknZSeQcsG",
        "outputId": "69c01ba0-0109-4110-9b89-dc23c0b9c382"
      },
      "source": [
        "facultad = \"Facultad de estudios superiores Aragón (la mejor)\"\r\n",
        "\r\n",
        "print(facultad)\r\n",
        "\r\n",
        "for indice in range( 12, 20, 1):\r\n",
        "  print(facultad[indice] , end = \"\")\r\n",
        "\r\n",
        "#Hacer esto con la caracteristica slicing se logra asi:\r\n",
        "\r\n",
        "print(\"\\n\",facultad[12:20:2])\r\n",
        "print(facultad[9:11:1])\r\n",
        "\r\n"
      ],
      "execution_count": 38,
      "outputs": [
        {
          "output_type": "stream",
          "text": [
            "Facultad de estudios superiores Aragón (la mejor)\n",
            "estudios\n",
            " etdo\n",
            "de\n"
          ],
          "name": "stdout"
        }
      ]
    }
  ]
}