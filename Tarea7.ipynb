{
  "nbformat": 4,
  "nbformat_minor": 0,
  "metadata": {
    "colab": {
      "name": "Tarea7.ipynb",
      "provenance": [],
      "authorship_tag": "ABX9TyOQEwM7dPEG8EcMRdyaCyLv",
      "include_colab_link": true
    },
    "kernelspec": {
      "name": "python3",
      "display_name": "Python 3"
    }
  },
  "cells": [
    {
      "cell_type": "markdown",
      "metadata": {
        "id": "view-in-github",
        "colab_type": "text"
      },
      "source": [
        "<a href=\"https://colab.research.google.com/github/kireli21/cyp_2021/blob/main/Tarea7.ipynb\" target=\"_parent\"><img src=\"https://colab.research.google.com/assets/colab-badge.svg\" alt=\"Open In Colab\"/></a>"
      ]
    },
    {
      "cell_type": "code",
      "metadata": {
        "id": "d6NB5ijDlUhK"
      },
      "source": [
        "# Programa que ordena alfabeticamente los nombres de los paises de America\r\n",
        "#No se que hice mal pero no funciona :(\r\n",
        "\r\n",
        "Norte = int(input(\"Ingrese el numero de paises de Norteamerica: \"))\r\n",
        "Centro = int(input(\"Ingrese el numero de paises de Centroamerica: \"))\r\n",
        "Sur = int(input(\"Ingrese el numero de paises de Sudamerica: \"))\r\n",
        "\r\n",
        "PN = []\r\n",
        "PC = []\r\n",
        "PS = []\r\n",
        "America = []\r\n",
        "if Norte >= 1 and Norte <= 30 and Centro >= 1 and Centro <= 30 and Sur >= 1 and Sur <= 30:\r\n",
        "  print(\"Ingrese el nombre de los paises de Norteamerica:\")\r\n",
        "  PN = [0 for x in range(Norte)]\r\n",
        "  for I in range(Norte):\r\n",
        "    PN[I] = input(\"Nombre: \")\r\n",
        "  print(\"Ingrese el nombre de los paises de Centramerica:\")\r\n",
        "  PC = [0 for x in range(Centro)]\r\n",
        "  for i in range(Centro):\r\n",
        "    PC[i] = input(\"Nombre: \")\r\n",
        "  print(\"Ingrese el nombre de los paises de Sudamerica:\")\r\n",
        "  PS = [0 for x in range(Sur)]\r\n",
        "  for P in range(Sur):\r\n",
        "    PS[P] = input(\"Nombre: \")\r\n",
        "  N = 1\r\n",
        "  C = 1\r\n",
        "  S = 1\r\n",
        "  A = 0\r\n",
        "  while S <= Sur and C <= Centro and N <= Norte:\r\n",
        "    A = A + 1\r\n",
        "    if PS[S] < PC[C] and PS[S] < PN[N]:\r\n",
        "      America[A] = Sur[S]\r\n",
        "      S = S + 1\r\n",
        "    elif PC[C] < PN[N]:\r\n",
        "      America[A] = PC[C]\r\n",
        "      C = C + 1\r\n",
        "    else:\r\n",
        "      America[A] = PN[N]\r\n",
        "      PN = PN + 1\r\n",
        "  while S <= Sur and C <= Centro:\r\n",
        "    A = A + 1\r\n",
        "    if PS[S] < PC[C]:\r\n",
        "      America[A] = PS[S]\r\n",
        "      S = S + 1\r\n",
        "    else:\r\n",
        "      America[A] = PC[C]\r\n",
        "      C = C + 1\r\n",
        "  while S <= Sur and N <= Norte:\r\n",
        "    A = A + 1\r\n",
        "    if PS[S] < PN[N]:\r\n",
        "      America[A] = PS[S]\r\n",
        "      S = S + 1\r\n",
        "    else:\r\n",
        "      America[A] = PN[N]\r\n",
        "      N = N + 1    \r\n",
        "  while C <= Centro and N <= Norte:\r\n",
        "    A = A + 1\r\n",
        "    if PC[C] < PN[N]:\r\n",
        "      America[A] = PC[C]\r\n",
        "      C = C + 1\r\n",
        "    else:\r\n",
        "      America[A] = PN[N]\r\n",
        "      N = N + 1\r\n",
        "  while S <= Sur:\r\n",
        "    A = A + 1\r\n",
        "    America[A] = PS[S]\r\n",
        "    S = S + 1\r\n",
        "  while C <= Centro:\r\n",
        "    A = A + 1\r\n",
        "    America[A] = PC[C]\r\n",
        "    C = C + 1\r\n",
        "  while N <= Norte:\r\n",
        "    A = A + 1\r\n",
        "    America[A] = PN[N]\r\n",
        "    N = N + 1\r\n",
        "  for f in range(America):\r\n",
        "    print(America[f])\r\n",
        "else:\r\n",
        "  print(\"Verifique el numero de paises ingresados\")\r\n"
      ],
      "execution_count": null,
      "outputs": []
    }
  ]
}