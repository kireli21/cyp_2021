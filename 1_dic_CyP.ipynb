{
  "nbformat": 4,
  "nbformat_minor": 0,
  "metadata": {
    "colab": {
      "name": "1_dic_CyP.ipynb",
      "provenance": [],
      "authorship_tag": "ABX9TyNub/82Sgr82HolWJVtcmxK",
      "include_colab_link": true
    },
    "kernelspec": {
      "name": "python3",
      "display_name": "Python 3"
    }
  },
  "cells": [
    {
      "cell_type": "markdown",
      "metadata": {
        "id": "view-in-github",
        "colab_type": "text"
      },
      "source": [
        "<a href=\"https://colab.research.google.com/github/kireli21/cyp_2021/blob/main/1_dic_CyP.ipynb\" target=\"_parent\"><img src=\"https://colab.research.google.com/assets/colab-badge.svg\" alt=\"Open In Colab\"/></a>"
      ]
    },
    {
      "cell_type": "code",
      "metadata": {
        "colab": {
          "base_uri": "https://localhost:8080/"
        },
        "id": "PpNoRb9hYtPB",
        "outputId": "27b87727-85eb-4ee6-9111-37b8a628b16f"
      },
      "source": [
        "# Ejemplo 1\n",
        "# de 3 numeros enteros imprimir el mayor\n",
        "\n",
        "n1 = 0\n",
        "n2 = 0\n",
        "n3 = 0\n",
        "\n",
        "n1 = int(input(\"ingrese el primer numero: \"))\n",
        "n2 = int(input(\"ingrese el segundo numero: \"))\n",
        "n3 = int(input(\"ingrese el tercer numero: \"))\n",
        "\n",
        "if n1 == n2 and n2 == n3 : \n",
        "  print(\"todos los numeros son iguales\")\n",
        "else:\n",
        "  if n1 > n2 and n1 > n3:\n",
        "    print(f\"{n1} es mayor\")\n",
        "  else:\n",
        "    if n2 > n1 and n2 > n3:\n",
        "      print(f\"{n2} es mayor\")\n",
        "    else: \n",
        "      if n3 > n1 and n3 > n2:\n",
        "       print(f\"{n3} es mayor\")"
      ],
      "execution_count": 17,
      "outputs": [
        {
          "output_type": "stream",
          "text": [
            "ingrese el primer numero: 8\n",
            "ingrese el segundo numero: 5\n",
            "ingrese el tercer numero: 9\n",
            "9 es mayor\n"
          ],
          "name": "stdout"
        }
      ]
    },
    {
      "cell_type": "code",
      "metadata": {
        "colab": {
          "base_uri": "https://localhost:8080/"
        },
        "id": "xm04IDQ-WFmn",
        "outputId": "9de074da-46b7-4cb0-876d-0283933f8926"
      },
      "source": [
        "# Ejemplo 2\n",
        "\n",
        "nom = 0\n",
        "hr = 0\n",
        "sueh = 0\n",
        "sue = 0\n",
        "ext = 0\n",
        "\n",
        "nom = input(\"ingrese el nombre: \")\n",
        "hr = int(input(\"ingrese cuantas horas se trabajo en la semana: \"))\n",
        "sueh = float(input(\"cuanto es del sueldo por hora: \"))\n",
        "\n",
        "if (hr <= 40):\n",
        "  sue = hr * sueh\n",
        "  print(f\"el sueldo final de {nom}, es: {sue}\")\n",
        "\n",
        "else:\n",
        "  ext = hr - 40\n",
        "  sue = (40 * sueh) + ((ext * sueh) * 2)\n",
        "  print(f\"el sueldo final de {nom}, es: {sue}\")\n"
      ],
      "execution_count": 13,
      "outputs": [
        {
          "output_type": "stream",
          "text": [
            "ingrese el nombre: Mar\n",
            "ingrese cuantas horas se trabajo en la semana: 45\n",
            "cuanto es del sueldo por hora: 10\n",
            "el sueldo final de Mar, es: 500.0\n"
          ],
          "name": "stdout"
        }
      ]
    },
    {
      "cell_type": "code",
      "metadata": {
        "colab": {
          "base_uri": "https://localhost:8080/"
        },
        "id": "WCopwSaat9zs",
        "outputId": "21791e6c-afb0-4062-bb94-fc805bd5ded2"
      },
      "source": [
        "#Ejemplo 3\n",
        "#Calcular el salario semanal de x trabajador\n",
        "#El salario semanal se calcula en base a las horas semanales trabajadas\n",
        "#El pago por hora es variable (se pide por teclado)\n",
        "#Si las horas trabajadas superan las 40 horas, el pago por hora extra es:\n",
        "#Doble en el rango de 41horas a 50horas\n",
        "#Triple en el rango de 51horas a 60 horas\n",
        "#Incentivo de $2000 si rebasa las 60 horas.\n",
        "\n",
        "print(\"Ingrese el nombre del trabjador\")\n",
        "nombre=input()\n",
        "print(\"Cuantas horas trabajo esta semana\", nombre, \":\")\n",
        "horas=int(input())\n",
        "print(\"Cuanto se paga por hora?:\")\n",
        "sueldoH=float(input())\n",
        "\n",
        "#Evaluar el sueldo\n",
        "\n",
        "if (horas<=40):\n",
        "  pago=horas*sueldoH\n",
        "  print(\"El sueldo de\",nombre,\"es $\", pago)\n",
        "\n",
        "elif (horas>40 and horas <=50):\n",
        "  extrasDobles=horas-40\n",
        "  print(\"Horas extras:\",extrasDobles)\n",
        "  pago=40*sueldoH\n",
        "  print(\"Sueldo $\", pago)\n",
        "  pagoDoble=extrasDobles*sueldoH*2\n",
        "  print(\"pago de horas dobles $\", pagoDoble)\n",
        "  pagoFinal=pago+pagoDoble\n",
        "  print(\"El sueldo de\",nombre,\"es $\", pagoFinal)\n",
        "\n",
        "elif ((horas>=51 and horas <=60 )):\n",
        "    extrasTriples=horas-50\n",
        "    print(\"horas extra dobles:10\")\n",
        "    print(\"horas extra triples:\", extrasTriples)\n",
        "    pago=40*sueldoH\n",
        "    print(\"sueldo base: $\", pago)\n",
        "    pagoDoble=10*sueldoH*2\n",
        "    print(\"pago de horas extras dobles:\", pagoDoble)\n",
        "    pagoTriple=extrasTriples*sueldoH*3\n",
        "    print(\"pago de horas extra triples:\" ,pagoTriple)\n",
        "    pagoFinal=pago+pagoDoble+pagoTriple\n",
        "    print(\"El sueldo de\",nombre,\"es $\", pagoFinal)\n",
        "else:\n",
        "    extrasTriples=10\n",
        "    print(\"Horas extra dobles 10\")\n",
        "    print(\"horas extra triples 10\")\n",
        "    pago= 40*sueldoH\n",
        "    print(\"Sueldo Base:$\",pago)\n",
        "    pagoDoble=10*sueldoH*2\n",
        "    print(\"Pago de horas extra Dobles:\", pagoDoble)\n",
        "    pagoTriple=extrasTriples * sueldoH*3\n",
        "    print(\"pago de horas extra triples:\", pagoTriple)\n",
        "    print(\"Incentivo por trabajar más de 60 horas:$ $2000\")\n",
        "    pagoFinal= pago+pagoDoble+pagoTriple+2000\n",
        "    print(\"El sueldo Final de : \" ,nombre , \"Es $\", pagoFinal)"
      ],
      "execution_count": 33,
      "outputs": [
        {
          "output_type": "stream",
          "text": [
            "Ingrese el nombre del trabjador\n",
            "v\n",
            "Cuantas horas trabajo esta semana v :\n",
            "65\n",
            "Cuanto se paga por hora?:\n",
            "20\n",
            "Horas extra dobles 10\n",
            "horas extra triples 10\n",
            "Sueldo Base:$ 800.0\n",
            "Pago de horas extra Dobles: 400.0\n",
            "pago de horas extra triples: 600.0\n",
            "Incentivo por trabajar más de 60 horas:$ $2000\n",
            "El sueldo Final de :  v Es $ 3800.0\n"
          ],
          "name": "stdout"
        }
      ]
    }
  ]
}