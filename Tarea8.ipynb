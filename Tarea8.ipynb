{
  "nbformat": 4,
  "nbformat_minor": 0,
  "metadata": {
    "colab": {
      "name": "Tarea8",
      "provenance": [],
      "collapsed_sections": [],
      "authorship_tag": "ABX9TyMH0SG85ms0n1yT4ZJ0UIWW",
      "include_colab_link": true
    },
    "kernelspec": {
      "name": "python3",
      "display_name": "Python 3"
    }
  },
  "cells": [
    {
      "cell_type": "markdown",
      "metadata": {
        "id": "view-in-github",
        "colab_type": "text"
      },
      "source": [
        "<a href=\"https://colab.research.google.com/github/kireli21/cyp_2021/blob/main/Tarea8.ipynb\" target=\"_parent\"><img src=\"https://colab.research.google.com/assets/colab-badge.svg\" alt=\"Open In Colab\"/></a>"
      ]
    },
    {
      "cell_type": "code",
      "metadata": {
        "colab": {
          "base_uri": "https://localhost:8080/"
        },
        "id": "UnH3hlFaayZb",
        "outputId": "c6d4f904-1127-47e1-bed9-a4c8189ef9ac"
      },
      "source": [
        "print(\" \" * 6,\"\\u2b1f\" * 35)\r\n",
        "print(\" \" * 6, \"\\u2016\", \"  \" * 23, \"\\u2016\")\r\n",
        "print(\" \" * 6, \"\\u2016\", \" \" * 2, \"\\u09a6\", \" \" * 2, \"\\u09a6\", \" \" * 3, \"\\u09a8 \" * 2, \" \" * 3, \"\\u09ac \" * 3, \" \" * 2, \"\\u09a6 \" * 4, \" \" * 2, \"\\u2016\") #1\r\n",
        "print(\" \" * 6, \"\\u2016\", \" \" * 2, \"\\u09a6\", \" \", \"\\u09a6\", \" \" * 2, \"\\u09a8 \", \"  \", \"\\u09a8\", \" \" * 2, \"\\u09ac \", \" \\u09ac\", \" \" * 3, \"\\u09a6\", \"  \" * 5, \"\\u2016\") #2\r\n",
        "print(\" \" * 6, \"\\u2016\", \" \" * 2, \"\\u09a6 \" * 2, \" \" * 3, \"\\u09a8 \", \"  \" , \"\\u09a8\", \" \" * 2, \"\\u09ac \", \" \\u09ac\", \" \" * 3, \"\\u09a6\", \" \" * 10, \"\\u2016\",) #3\r\n",
        "print(\" \" * 6, \"\\u2016\", \" \" * 2, \"\\u09a6\", \" \", \"\\u09a6\", \" \" * 2, \"\\u09a8\",\"\\u09a8\", \"\\u09a8\" * 2, \" \" * 2, \" \\u09ac\", \"\\u09ac\", \" \" * 4, \"\\u09a6 \" * 3, \" \" * 5, \"\\u2016\") #4\r\n",
        "print(\" \" * 6, \"\\u2016\", \" \" * 2, \"\\u09a6\", \" \" * 2, \"\\u09a6\", \" \", \"\\u09a8 \", \"  \", \"\\u09a8\", \" \" * 2, \"\\u09ac \", \" \\u09ac\", \" \" * 3, \"\\u09a6\", \" \" * 10, \"\\u2016\") #5\r\n",
        "print(\" \" * 6, \"\\u2016\", \" \" * 2, \"\\u09a6\", \" \" * 2, \"\\u09a6\", \" \", \"\\u09a8 \", \"  \", \"\\u09a8\", \" \" * 2, \"\\u09ac\", \" \" * 2, \"\\u09ac\", \" \" * 2, \"\\u09a6\", \" \" * 10, \"\\u2016\") #6\r\n",
        "print(\" \" * 6, \"\\u2016\", \" \" * 2, \"\\u09a6\", \" \" * 2, \"\\u09a6\", \" \", \"\\u09a8 \", \"  \", \"\\u09a8\", \" \" * 2, \"\\u09ac\", \" \" * 2, \"\\u09ac\", \" \" * 2, \"\\u09a6 \" * 4, \" \" * 2, \" \\u2016\") #7\r\n",
        "print(\" \" * 6, \"\\u2016\", \"  \" * 23, \"\\u2016\")\r\n",
        "print(\" \" * 6,\"\\u2b1f\" * 35)"
      ],
      "execution_count": 177,
      "outputs": [
        {
          "output_type": "stream",
          "text": [
            "       ⬟⬟⬟⬟⬟⬟⬟⬟⬟⬟⬟⬟⬟⬟⬟⬟⬟⬟⬟⬟⬟⬟⬟⬟⬟⬟⬟⬟⬟⬟⬟⬟⬟⬟⬟\n",
            "       ‖                                                ‖\n",
            "       ‖    দ    দ     ন ন      ব ব ব     দ দ দ দ     ‖\n",
            "       ‖    দ   দ    ন     ন    ব   ব     দ            ‖\n",
            "       ‖    দ দ      ন     ন    ব   ব     দ            ‖\n",
            "       ‖    দ   দ    ন ন নন     ব ব      দ দ দ        ‖\n",
            "       ‖    দ    দ   ন     ন    ব   ব     দ            ‖\n",
            "       ‖    দ    দ   ন     ন    ব    ব    দ            ‖\n",
            "       ‖    দ    দ   ন     ন    ব    ব    দ দ দ দ      ‖\n",
            "       ‖                                                ‖\n",
            "       ⬟⬟⬟⬟⬟⬟⬟⬟⬟⬟⬟⬟⬟⬟⬟⬟⬟⬟⬟⬟⬟⬟⬟⬟⬟⬟⬟⬟⬟⬟⬟⬟⬟⬟⬟\n"
          ],
          "name": "stdout"
        }
      ]
    }
  ]
}