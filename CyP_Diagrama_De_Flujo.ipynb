{
  "nbformat": 4,
  "nbformat_minor": 0,
  "metadata": {
    "colab": {
      "name": "CyP Diagrama De Flujo",
      "provenance": [],
      "authorship_tag": "ABX9TyPLZgqHWZGf3JbxrOkdie/n",
      "include_colab_link": true
    },
    "kernelspec": {
      "name": "python3",
      "display_name": "Python 3"
    }
  },
  "cells": [
    {
      "cell_type": "markdown",
      "metadata": {
        "id": "view-in-github",
        "colab_type": "text"
      },
      "source": [
        "<a href=\"https://colab.research.google.com/github/kireli21/cyp_2021/blob/main/CyP_Diagrama_De_Flujo.ipynb\" target=\"_parent\"><img src=\"https://colab.research.google.com/assets/colab-badge.svg\" alt=\"Open In Colab\"/></a>"
      ]
    },
    {
      "cell_type": "code",
      "metadata": {
        "id": "B5zgh8vGRMDo",
        "outputId": "d9922a99-af08-46e6-b881-8f8c5c183b9e",
        "colab": {
          "base_uri": "https://localhost:8080/"
        }
      },
      "source": [
        "numero=int (input(\"Dame un numero\"))\n",
        "if numero >0:\n",
        "  print(\"el numero es positivo\")\n",
        "\n",
        "print(\"fin del programa\")"
      ],
      "execution_count": 3,
      "outputs": [
        {
          "output_type": "stream",
          "text": [
            "Dame un numero5\n",
            "el numero es positivo\n",
            "fin del programa\n"
          ],
          "name": "stdout"
        }
      ]
    },
    {
      "cell_type": "code",
      "metadata": {
        "id": "WxYA8qwFfDB2",
        "outputId": "81bb8059-8fec-4a60-9eb5-308efc325827",
        "colab": {
          "base_uri": "https://localhost:8080/"
        }
      },
      "source": [
        "numero=int (input(\"Dame un numero\"))\n",
        "if numero >0:\n",
        "  print(\"el numero es positivo\")\n",
        "else:#sino imprime negativo\n",
        "  print(\"el numero es negativo\") \n",
        "print(\"fin del programa\")"
      ],
      "execution_count": 4,
      "outputs": [
        {
          "output_type": "stream",
          "text": [
            "Dame un numero-2\n",
            "el numero es negativo\n",
            "fin del programa\n"
          ],
          "name": "stdout"
        }
      ]
    },
    {
      "cell_type": "code",
      "metadata": {
        "id": "Goi7ivlKg8jP",
        "outputId": "e6e1fbdd-b172-4361-b73a-2ad9d51c92b6",
        "colab": {
          "base_uri": "https://localhost:8080/"
        }
      },
      "source": [
        "numero=int (input(\"Dame un numero\"))\n",
        "if numero >0:\n",
        "  print(\"el numero es positivo\")\n",
        "elif numero==0:\n",
        "  print(\"el numero es 0\")\n",
        "else:#si no imprime negativo\n",
        "  print(\"el numero es negativo\") \n",
        "print(\"fin del programa\")"
      ],
      "execution_count": 6,
      "outputs": [
        {
          "output_type": "stream",
          "text": [
            "Dame un numero0\n",
            "el numero es 0\n",
            "fin del programa\n"
          ],
          "name": "stdout"
        }
      ]
    }
  ]
}