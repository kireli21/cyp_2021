{
  "nbformat": 4,
  "nbformat_minor": 0,
  "metadata": {
    "colab": {
      "name": "Untitled1.ipynb",
      "provenance": [],
      "authorship_tag": "ABX9TyP/l2HlbMMxdGaqIbwpIfhb",
      "include_colab_link": true
    },
    "kernelspec": {
      "name": "python3",
      "display_name": "Python 3"
    }
  },
  "cells": [
    {
      "cell_type": "markdown",
      "metadata": {
        "id": "view-in-github",
        "colab_type": "text"
      },
      "source": [
        "<a href=\"https://colab.research.google.com/github/kireli21/cyp_2021/blob/main/Untitled1.ipynb\" target=\"_parent\"><img src=\"https://colab.research.google.com/assets/colab-badge.svg\" alt=\"Open In Colab\"/></a>"
      ]
    },
    {
      "cell_type": "markdown",
      "metadata": {
        "id": "8rlBKmKWBhYj"
      },
      "source": [
        "#Tuplas\r\n",
        "\r\n",
        "- tipo de dato lineas, estructura de datos.\r\n",
        "- no muteable.\r\n",
        "- puede contener de 0 a n elementos \r\n",
        "- se declara con '(' y ')'.\r\n",
        "- No se tuede agregar ni eliminar elementos.\r\n",
        "- pueden ser anidadas.\r\n",
        "- los argumentos a una fuencion son enviadas como tuplas."
      ]
    },
    {
      "cell_type": "code",
      "metadata": {
        "colab": {
          "base_uri": "https://localhost:8080/"
        },
        "id": "WXv9Ev-6CSAN",
        "outputId": "1dafe9e4-acb9-4e34-8e7a-9c3cf6d54fc6"
      },
      "source": [
        "frutas = ('Sandía','Melón','Limón','Mango')\r\n",
        "print(frutas)\r\n",
        "print(frutas[1:3:1])\r\n",
        "print(frutas.count('Melón'))\r\n",
        "\r\n",
        "\r\n",
        "#son inmutables\r\n",
        "\r\n",
        "#frutas[1]=\"Manzana\"\r\n",
        "\r\n",
        "# ¿Para que se usan?\r\n",
        "conexion = ( '132.248.12.12', 3306, 'cyp_bd', 'usr_test', '1234dios')\r\n",
        "print(f\"usuario:{conexion[3]} y password: {conexion[4]}\")"
      ],
      "execution_count": 7,
      "outputs": [
        {
          "output_type": "stream",
          "text": [
            "('Sandía', 'Melón', 'Limón', 'Mango')\n",
            "('Melón', 'Limón')\n",
            "1\n",
            "usuario:usr_test y password: 1234dios\n"
          ],
          "name": "stdout"
        }
      ]
    },
    {
      "cell_type": "markdown",
      "metadata": {
        "id": "04s1cAmzF5Lz"
      },
      "source": [
        "# Diccionarios\r\n",
        "- estructura de datos semi lineal\r\n",
        "- formada por pares, llave - valor\r\n",
        "- son equivalentes al tipo de datos JSON, de JavaScript\r\n",
        "- utiliza organizacion por funcion de dispercion\r\n",
        "- se declara con los elementos '{ 'y' }'\r\n",
        "- Una valores de tipo string (llave)\r\n",
        "- no se puede seleccionar por offset (con un numero)\r\n",
        "- Son mutables\r\n"
      ]
    },
    {
      "cell_type": "code",
      "metadata": {
        "colab": {
          "base_uri": "https://localhost:8080/"
        },
        "id": "J3gkqQxcG5Hi",
        "outputId": "2b84f1b0-6690-46f0-9511-8eb6afc19fd0"
      },
      "source": [
        "alumno = { 'nombre' : 'Juan Pérez', \r\n",
        "          'edad' : 18, \r\n",
        "          'Matricula': 312193, \r\n",
        "          'calificaciones' : {'Mate' : 8, 'ciencias' : 9, \r\n",
        "          'ingles': 8}, \r\n",
        "          'aprovado' : True,\r\n",
        "          'direccion' : {'calle' : 'Rancho Seco',\r\n",
        "                         'numero' : 's/n',\r\n",
        "                         'colonia' : 'impulsora',\r\n",
        "                         'municipio' : 'Mi-nezota'}\r\n",
        "          }\r\n",
        "print(alumno)\r\n",
        "print(alumno['nombre'])\r\n",
        "print(alumno['calificaciones'])\r\n",
        "print(alumno['calificaciones']['ciencias'])\r\n",
        "print(alumno['nombre'].upper())\r\n",
        "print(\"-----------------------\")\r\n",
        "print(alumno)\r\n",
        "alumno['seguro'] = True\r\n",
        "print(alumno)\r\n",
        "print(\"---------------------------\")\r\n",
        "alumno['direccion']['cp'] = 56341\r\n",
        "print(alumno)"
      ],
      "execution_count": 31,
      "outputs": [
        {
          "output_type": "stream",
          "text": [
            "{'nombre': 'Juan Pérez', 'edad': 18, 'Matricula': 312193, 'calificaciones': {'Mate': 8, 'ciencias': 9, 'ingles': 8}, 'aprovado': True, 'direccion': {'calle': 'Rancho Seco', 'numero': 's/n', 'colonia': 'impulsora', 'municipio': 'Mi-nezota'}}\n",
            "Juan Pérez\n",
            "{'Mate': 8, 'ciencias': 9, 'ingles': 8}\n",
            "9\n",
            "JUAN PÉREZ\n",
            "-----------------------\n",
            "{'nombre': 'Juan Pérez', 'edad': 18, 'Matricula': 312193, 'calificaciones': {'Mate': 8, 'ciencias': 9, 'ingles': 8}, 'aprovado': True, 'direccion': {'calle': 'Rancho Seco', 'numero': 's/n', 'colonia': 'impulsora', 'municipio': 'Mi-nezota'}}\n",
            "{'nombre': 'Juan Pérez', 'edad': 18, 'Matricula': 312193, 'calificaciones': {'Mate': 8, 'ciencias': 9, 'ingles': 8}, 'aprovado': True, 'direccion': {'calle': 'Rancho Seco', 'numero': 's/n', 'colonia': 'impulsora', 'municipio': 'Mi-nezota'}, 'seguro': True}\n",
            "---------------------------\n",
            "{'nombre': 'Juan Pérez', 'edad': 18, 'Matricula': 312193, 'calificaciones': {'Mate': 8, 'ciencias': 9, 'ingles': 8}, 'aprovado': True, 'direccion': {'calle': 'Rancho Seco', 'numero': 's/n', 'colonia': 'impulsora', 'municipio': 'Mi-nezota', 'cp': 56341}, 'seguro': True}\n"
          ],
          "name": "stdout"
        }
      ]
    },
    {
      "cell_type": "code",
      "metadata": {
        "colab": {
          "base_uri": "https://localhost:8080/"
        },
        "id": "QINQ30wXONAg",
        "outputId": "6dbc51d8-7aa4-4e70-d399-9e30b973d7cf"
      },
      "source": [
        "cliente = {}\r\n",
        "print(cliente)"
      ],
      "execution_count": 19,
      "outputs": [
        {
          "output_type": "stream",
          "text": [
            "{}\n"
          ],
          "name": "stdout"
        }
      ]
    },
    {
      "cell_type": "code",
      "metadata": {
        "id": "4TkSFSn8RgxH"
      },
      "source": [
        "\r\n",
        "funciones = dir( dict )\r\n",
        "for funcion in funciones:\r\n",
        "  print (funciones)"
      ],
      "execution_count": null,
      "outputs": []
    },
    {
      "cell_type": "markdown",
      "metadata": {
        "id": "ISr2D6OsVFCR"
      },
      "source": [
        "#Manipulacion de los pares llave valor.\r\n",
        "para ello se emplean los metodos:\r\n",
        "- keys() te regresa una tupla con los strings llave del diccionario\r\n",
        "- values() Te regresa solo los valores\r\n",
        "- items() te regresa los pares"
      ]
    },
    {
      "cell_type": "code",
      "metadata": {
        "colab": {
          "base_uri": "https://localhost:8080/"
        },
        "id": "oOz8z44dVxgt",
        "outputId": "a757be73-8de6-4c4f-b8f8-944c3cab3b66"
      },
      "source": [
        "print(alumno)\r\n",
        "llaves = alumno.keys()\r\n",
        "print(llaves)\r\n",
        "for elem in llaves:\r\n",
        "  print(elem)\r\n",
        "  print(alumno[elem])\r\n",
        "#print(help(llaves))\r\n",
        "\r\n",
        "#manipular los valores\r\n",
        "\r\n",
        "valores = alumno.values()\r\n",
        "print(valores)\r\n",
        "print(\"-.-.-.-.-.-.-.-.-.-.-.-.-..-.-.\")\r\n",
        "for val in valores:\r\n",
        "  print(val)\r\n",
        "\r\n",
        "#manipular pares\r\n",
        "\r\n",
        "pares = alumno.items()\r\n",
        "print(pares)\r\n",
        "for par in pares:\r\n",
        "  print(par)"
      ],
      "execution_count": 48,
      "outputs": [
        {
          "output_type": "stream",
          "text": [
            "{'nombre': 'Juan Pérez', 'edad': 18, 'Matricula': 312193, 'calificaciones': {'Mate': 8, 'ciencias': 9, 'ingles': 8}, 'aprovado': True, 'direccion': {'calle': 'Rancho Seco', 'numero': 's/n', 'colonia': 'impulsora', 'municipio': 'Mi-nezota', 'cp': 56341}, 'seguro': True}\n",
            "dict_keys(['nombre', 'edad', 'Matricula', 'calificaciones', 'aprovado', 'direccion', 'seguro'])\n",
            "nombre\n",
            "Juan Pérez\n",
            "edad\n",
            "18\n",
            "Matricula\n",
            "312193\n",
            "calificaciones\n",
            "{'Mate': 8, 'ciencias': 9, 'ingles': 8}\n",
            "aprovado\n",
            "True\n",
            "direccion\n",
            "{'calle': 'Rancho Seco', 'numero': 's/n', 'colonia': 'impulsora', 'municipio': 'Mi-nezota', 'cp': 56341}\n",
            "seguro\n",
            "True\n",
            "dict_values(['Juan Pérez', 18, 312193, {'Mate': 8, 'ciencias': 9, 'ingles': 8}, True, {'calle': 'Rancho Seco', 'numero': 's/n', 'colonia': 'impulsora', 'municipio': 'Mi-nezota', 'cp': 56341}, True])\n",
            "-.-.-.-.-.-.-.-.-.-.-.-.-..-.-.\n",
            "Juan Pérez\n",
            "18\n",
            "312193\n",
            "{'Mate': 8, 'ciencias': 9, 'ingles': 8}\n",
            "True\n",
            "{'calle': 'Rancho Seco', 'numero': 's/n', 'colonia': 'impulsora', 'municipio': 'Mi-nezota', 'cp': 56341}\n",
            "True\n",
            "dict_items([('nombre', 'Juan Pérez'), ('edad', 18), ('Matricula', 312193), ('calificaciones', {'Mate': 8, 'ciencias': 9, 'ingles': 8}), ('aprovado', True), ('direccion', {'calle': 'Rancho Seco', 'numero': 's/n', 'colonia': 'impulsora', 'municipio': 'Mi-nezota', 'cp': 56341}), ('seguro', True)])\n",
            "('nombre', 'Juan Pérez')\n",
            "('edad', 18)\n",
            "('Matricula', 312193)\n",
            "('calificaciones', {'Mate': 8, 'ciencias': 9, 'ingles': 8})\n",
            "('aprovado', True)\n",
            "('direccion', {'calle': 'Rancho Seco', 'numero': 's/n', 'colonia': 'impulsora', 'municipio': 'Mi-nezota', 'cp': 56341})\n",
            "('seguro', True)\n"
          ],
          "name": "stdout"
        }
      ]
    }
  ]
}